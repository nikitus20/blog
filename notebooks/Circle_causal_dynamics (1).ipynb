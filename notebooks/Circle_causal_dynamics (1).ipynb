{
  "cells": [
    {
      "cell_type": "code",
      "execution_count": 1,
      "metadata": {
        "id": "47p5TSgiI9FM"
      },
      "outputs": [],
      "source": [
        "import numpy as np\n",
        "import matplotlib.pyplot as plt\n",
        "from tqdm import tqdm\n",
        "\n",
        "\n",
        "def get_points_order(points):\n",
        "    angles = np.arctan2(points[:, 0], points[:, 1])\n",
        "    sorted_indices = np.argsort(angles)\n",
        "    return sorted_indices\n",
        "\n",
        "def masked_dynamics_step(particles, epsilon, beta, V):\n",
        "    \"\"\"\n",
        "    Perform a single step of the masked dynamics.\n",
        "\n",
        "    Args:\n",
        "        particles (np.ndarray): The current state of the particles.\n",
        "        epsilon (float): Step size.\n",
        "\n",
        "    Returns:\n",
        "        np.ndarray: The new state of the particles after the dynamics step.\n",
        "    \"\"\"\n",
        "    interaction_matrix = np.dot(particles, particles.T) - 1  # Interaction matrix, -1 for stability\n",
        "    interaction_matrix = np.tril(np.exp(beta * interaction_matrix))  # Lower triangular, exp-scaled\n",
        "    interaction_matrix /= np.sum(interaction_matrix, axis=1, keepdims=True)  # Normalize rows\n",
        "    delta = np.dot(interaction_matrix, np.dot(particles, V))  # Weighted sum of adjustments\n",
        "    particles_new = particles + epsilon * delta  # Update positions\n",
        "    return particles_new / np.linalg.norm(particles_new, axis=1, keepdims=True)  # Normalize\n"
      ]
    },
    {
      "cell_type": "code",
      "execution_count": 2,
      "metadata": {
        "id": "wZ475VjBkvK9"
      },
      "outputs": [],
      "source": [
        "def get_groups(points, gap):\n",
        "  # Groups of points indices such that corresponding point clouds are separated by gap from each other\n",
        "  order = get_points_order(points)\n",
        "  points_sorted = points[order]  # sorted points\n",
        "  points_extended = np.concatenate((points_sorted, [points_sorted[0]]))\n",
        "  diffs = np.diff(points_extended, axis=0)\n",
        "  distances = np.linalg.norm(diffs, axis=1)\n",
        "  gaps = np.where(distances > gap)[0]\n",
        "  groups = np.split(order, (gaps+1).tolist())\n",
        "  groups[0] = np.concatenate((groups[0], groups[-1])) # Those are the same group because we are on a circle\n",
        "  groups.pop()\n",
        "  leaders = []\n",
        "  for group in groups:\n",
        "    leaders.append(np.min(group))\n",
        "  return groups, leaders\n",
        "\n",
        "def parking(X, d):\n",
        "  # Store ids of Renyi parking clusters\n",
        "  current = [0]\n",
        "  for id, el in enumerate(X):\n",
        "    if np.min(np.linalg.norm(el - X[np.array(current)], axis = 1))>2*np.sin(d/2):\n",
        "      current.append(id)\n",
        "  return np.array(current)\n",
        "\n",
        "def overlapped_parking(X, d):\n",
        "  # Store ids of tokens that are from from all previous ones\n",
        "  current = [0]\n",
        "  for id, el in enumerate(X):\n",
        "    if id==0:\n",
        "      continue\n",
        "    if np.min(np.linalg.norm(el - X[:id], axis = 1))> 2*np.sin(d/2):\n",
        "      current.append(id)\n",
        "  return np.array(current)"
      ]
    },
    {
      "cell_type": "code",
      "execution_count": 3,
      "metadata": {
        "id": "h0xOVtVxmXyH"
      },
      "outputs": [],
      "source": [
        "# Here let's try to figure out not moving clusters first! And find out what the distance should be.\n",
        "# To this aim we think that the time is big enough for points to stabilize.\n",
        "\n",
        "def run_dynamics(beta, T = 10000, dimension = 2, n_particles = 256, epsilon = 0.05):\n",
        "  X = np.random.normal(0, 1, size=(n_particles, dimension))\n",
        "  X /= np.linalg.norm(X, axis=1, keepdims=True)  # Normalize\n",
        "  V = np.eye(dimension)  # Identity matrix for dimension 2\n",
        "  data = [X.copy()]\n",
        "  for i in tqdm(range(T)):\n",
        "      X = masked_dynamics_step(X, epsilon, beta, V)\n",
        "      data.append(X.copy())\n",
        "  data = np.array(data)\n",
        "  groups_halftime, leaders_halftime = get_groups(data[T//2], 0.07)\n",
        "  groups_end, leaders_end = get_groups(data[T-1], 0.07)\n",
        "  max_separation = 1\n",
        "  min_separation = 0\n",
        "  for leader in leaders_end:\n",
        "    if leader!=0:\n",
        "      max_separation = min(max_separation, np.min(np.linalg.norm(data[0][leader] - data[0][:leader], axis = 1)))\n",
        "  for i in range(50):\n",
        "    if i not in leaders_end:\n",
        "      min_separation = max(min_separation, np.min(np.linalg.norm(data[0][i] - data[0][:i], axis = 1)))\n",
        "\n",
        "  return 2*np.arcsin(min_separation/2), 2*np.arcsin(max_separation/2), leaders_end, data\n",
        "\n"
      ]
    },
    {
      "cell_type": "code",
      "source": [
        "ans = []\n",
        "for _ in range(200):\n",
        "  x, y, leaders, data = run_dynamics(beta = 49)\n",
        "  ans.append((x, y))\n",
        "  print(f\"{x:.2f}, {y:.2f}\")\n",
        "\n"
      ],
      "metadata": {
        "colab": {
          "base_uri": "https://localhost:8080/",
          "height": 216
        },
        "id": "3k7kKN0zDeuG",
        "outputId": "50764886-a44e-455c-b582-45cbabd11f98"
      },
      "execution_count": 1,
      "outputs": [
        {
          "output_type": "error",
          "ename": "NameError",
          "evalue": "name 'run_dynamics' is not defined",
          "traceback": [
            "\u001b[0;31m---------------------------------------------------------------------------\u001b[0m",
            "\u001b[0;31mNameError\u001b[0m                                 Traceback (most recent call last)",
            "\u001b[0;32m<ipython-input-1-9b08f341a0d1>\u001b[0m in \u001b[0;36m<cell line: 2>\u001b[0;34m()\u001b[0m\n\u001b[1;32m      1\u001b[0m \u001b[0mans\u001b[0m \u001b[0;34m=\u001b[0m \u001b[0;34m[\u001b[0m\u001b[0;34m]\u001b[0m\u001b[0;34m\u001b[0m\u001b[0;34m\u001b[0m\u001b[0m\n\u001b[1;32m      2\u001b[0m \u001b[0;32mfor\u001b[0m \u001b[0m_\u001b[0m \u001b[0;32min\u001b[0m \u001b[0mrange\u001b[0m\u001b[0;34m(\u001b[0m\u001b[0;36m200\u001b[0m\u001b[0;34m)\u001b[0m\u001b[0;34m:\u001b[0m\u001b[0;34m\u001b[0m\u001b[0;34m\u001b[0m\u001b[0m\n\u001b[0;32m----> 3\u001b[0;31m   \u001b[0mx\u001b[0m\u001b[0;34m,\u001b[0m \u001b[0my\u001b[0m\u001b[0;34m,\u001b[0m \u001b[0mleaders\u001b[0m\u001b[0;34m,\u001b[0m \u001b[0mdata\u001b[0m \u001b[0;34m=\u001b[0m \u001b[0mrun_dynamics\u001b[0m\u001b[0;34m(\u001b[0m\u001b[0mbeta\u001b[0m \u001b[0;34m=\u001b[0m \u001b[0;36m49\u001b[0m\u001b[0;34m)\u001b[0m\u001b[0;34m\u001b[0m\u001b[0;34m\u001b[0m\u001b[0m\n\u001b[0m\u001b[1;32m      4\u001b[0m   \u001b[0mans\u001b[0m\u001b[0;34m.\u001b[0m\u001b[0mappend\u001b[0m\u001b[0;34m(\u001b[0m\u001b[0;34m(\u001b[0m\u001b[0mx\u001b[0m\u001b[0;34m,\u001b[0m \u001b[0my\u001b[0m\u001b[0;34m)\u001b[0m\u001b[0;34m)\u001b[0m\u001b[0;34m\u001b[0m\u001b[0;34m\u001b[0m\u001b[0m\n\u001b[1;32m      5\u001b[0m   \u001b[0mprint\u001b[0m\u001b[0;34m(\u001b[0m\u001b[0;34mf\"{x:.2f}, {y:.2f}\"\u001b[0m\u001b[0;34m)\u001b[0m\u001b[0;34m\u001b[0m\u001b[0;34m\u001b[0m\u001b[0m\n",
            "\u001b[0;31mNameError\u001b[0m: name 'run_dynamics' is not defined"
          ]
        }
      ]
    },
    {
      "cell_type": "code",
      "source": [
        "x*7, y*7, leaders"
      ],
      "metadata": {
        "colab": {
          "base_uri": "https://localhost:8080/"
        },
        "id": "QBh-VGZQORN8",
        "outputId": "dd0be408-16b4-4bec-bd02-61be582ac07c"
      },
      "execution_count": 6,
      "outputs": [
        {
          "output_type": "execute_result",
          "data": {
            "text/plain": [
              "(4.371693749316329, 3.7441895675326275, [3, 22, 6, 16, 1, 0])"
            ]
          },
          "metadata": {},
          "execution_count": 6
        }
      ]
    },
    {
      "cell_type": "code",
      "source": [
        "groups, leaders = get_groups(data[9999], 0.07)\n",
        "for group in groups:\n",
        "  print(np.sort(group))"
      ],
      "metadata": {
        "colab": {
          "base_uri": "https://localhost:8080/"
        },
        "id": "TpKgGfWTd08g",
        "outputId": "87037645-4620-48a9-b5e6-19bb3737c0c5"
      },
      "execution_count": 11,
      "outputs": [
        {
          "output_type": "stream",
          "name": "stdout",
          "text": [
            "[  3   4  14  18  32  34  35  41  42  44  47  49  52  60  84  88  92 103\n",
            " 119 134 135 158 162 168 169 171 172 187 194 196 203 204 205 235 239 246\n",
            " 250]\n",
            "[ 22  46  67  69  75  86  99 110 115 126 127 130 141 157 159 167 178 192\n",
            " 195 230]\n",
            "[  6  15  25  38  40  56  57  61  62  63  65  73  77  81  97 100 107 117\n",
            " 121 122 124 129 136 138 143 148 150 155 160 164 165 173 177 182 191 198\n",
            " 202 207 208 211 219 222 223 228 244 249 255]\n",
            "[ 16  17  19  24  26  29  33  39  54  64  80  82  90 101 104 106 111 113\n",
            " 116 120 123 125 133 137 142 144 146 152 153 154 156 181 184 200 206 210\n",
            " 217 218 227 236 237 241 243 252 253]\n",
            "[  1   2  11  30  48  51  55  68  74  76  83  89  93  94  95 102 105 112\n",
            " 131 151 174 179 188 190 212 215 221 224 231 254]\n",
            "[  0   5   7   8   9  10  12  13  20  21  23  27  28  31  36  37  43  45\n",
            "  50  53  58  59  66  70  71  72  78  79  85  87  91  96  98 108 109 114\n",
            " 118 128 132 139 140 145 147 149 161 163 166 170 175 176 180 183 185 186\n",
            " 189 193 197 199 201 209 213 214 216 220 225 226 229 232 233 234 238 240\n",
            " 242 245 247 248 251]\n"
          ]
        }
      ]
    },
    {
      "cell_type": "code",
      "source": [
        "overlapped_parking(data[0], 4/np.sqrt(49))"
      ],
      "metadata": {
        "colab": {
          "base_uri": "https://localhost:8080/"
        },
        "id": "IekJCcNQOUBc",
        "outputId": "e592fcb7-2b4c-441f-874f-f035785046ab"
      },
      "execution_count": 12,
      "outputs": [
        {
          "output_type": "execute_result",
          "data": {
            "text/plain": [
              "array([ 0,  1,  3,  6,  9, 16])"
            ]
          },
          "metadata": {},
          "execution_count": 12
        }
      ]
    },
    {
      "cell_type": "code",
      "source": [
        "import numpy as np\n",
        "import matplotlib.pyplot as plt\n",
        "\n",
        "\n",
        "# Calculate the minimum and maximum values of the array for the range\n",
        "min_val, max_val = np.min(ans), np.max(ans)\n",
        "\n",
        "# Plotting the histogram\n",
        "plt.hist(ans, bins=15, range=(min_val, max_val))\n",
        "plt.title('Histogram of the Array')\n",
        "plt.xlabel('Value')\n",
        "plt.ylabel('Frequency')\n",
        "\n",
        "# Display the plot\n",
        "plt.show()\n"
      ],
      "metadata": {
        "colab": {
          "base_uri": "https://localhost:8080/",
          "height": 472
        },
        "id": "saN0Z_sMD_JH",
        "outputId": "4a5bcd41-5f55-4335-a31d-4ea798ff8e50"
      },
      "execution_count": 24,
      "outputs": [
        {
          "output_type": "display_data",
          "data": {
            "text/plain": [
              "<Figure size 640x480 with 1 Axes>"
            ],
            "image/png": "[encoded data removed]"
          },
          "metadata": {}
        }
      ]
    },
    {
      "cell_type": "code",
      "execution_count": null,
      "metadata": {
        "colab": {
          "base_uri": "https://localhost:8080/"
        },
        "id": "j7C6b6k2obhE",
        "outputId": "708e5579-ea90-47c4-82bd-3a84a70d3433"
      },
      "outputs": [
        {
          "name": "stderr",
          "output_type": "stream",
          "text": [
            "100%|██████████| 10000/10000 [00:16<00:00, 615.95it/s]\n"
          ]
        },
        {
          "data": {
            "text/plain": [
              "0.6128247385854731"
            ]
          },
          "execution_count": 212,
          "metadata": {},
          "output_type": "execute_result"
        }
      ],
      "source": [
        "from concurrent.futures import ProcessPoolExecutor\n",
        "import numpy as np\n",
        "\n",
        "# Function to be executed in parallel\n",
        "def run_task(_):\n",
        "    return run_dynamics(49)\n",
        "\n",
        "# Number of tasks to run in parallel\n",
        "n_tasks = 100\n",
        "\n",
        "# Use ProcessPoolExecutor to parallelize the task\n",
        "with ProcessPoolExecutor() as executor:\n",
        "    results = list(executor.map(run_task, range(n_tasks)))\n",
        "\n",
        "# Convert results to a numpy array\n",
        "ans = np.array(results)\n",
        "\n",
        "\n"
      ]
    },
    {
      "cell_type": "code",
      "execution_count": null,
      "metadata": {
        "id": "WMFICuOekyL0"
      },
      "outputs": [],
      "source": [
        "def experiment(T, beta, c, dimension = 2, n_particles = 256, epsilon = 0.02):\n",
        "  X = np.random.normal(0, 1, size=(n_particles, dimension))\n",
        "  X /= np.linalg.norm(X, axis=1, keepdims=True)  # Normalize\n",
        "  V = np.eye(dimension)  # Identity matrix for dimension 2\n",
        "  data = [X.copy()]\n",
        "  metaclusters = parking(data[0], d = c/np.sqrt(beta))\n",
        "  clusters = overlapped_parking(data[0], d = c/np.sqrt(beta))\n",
        "  for i in tqdm(range(T)):\n",
        "      X = masked_dynamics_step(X, epsilon)\n",
        "      data.append(X.copy())\n",
        "      if i%50 == 0:\n",
        "        pass\n",
        "\n",
        "  data = np.array(data)\n"
      ]
    },
    {
      "cell_type": "code",
      "source": [
        "clusters = overlapped_parking(data[0], d = 4.4/np.sqrt(49))\n",
        "metaclusters = parking(data[0], d = 3/np.sqrt(49))\n",
        "clusters, metaclusters, leaders"
      ],
      "metadata": {
        "colab": {
          "base_uri": "https://localhost:8080/"
        },
        "id": "iJQ5TlvnPcCe",
        "outputId": "c8398468-0a4f-4d98-ba85-6f75566806b8"
      },
      "execution_count": 14,
      "outputs": [
        {
          "output_type": "execute_result",
          "data": {
            "text/plain": [
              "(array([0, 1, 3, 6]),\n",
              " array([ 0,  1,  3,  5,  6,  9, 11, 16, 22, 38]),\n",
              " [3, 22, 6, 16, 1, 0])"
            ]
          },
          "metadata": {},
          "execution_count": 14
        }
      ]
    },
    {
      "cell_type": "code",
      "execution_count": 15,
      "metadata": {
        "colab": {
          "base_uri": "https://localhost:8080/",
          "height": 504,
          "referenced_widgets": [
            "611865261d0b411b8694ef15476554aa",
            "89353d31bc4e460881f408070cea23a0",
            "0cc14a4dcb16453b89f473ce5701ad3e",
            "7f4cd9d458944183901b83e69a118249",
            "7a2c77dcd2ab4fb8af455d0a1cb02a34",
            "8365e2569d1e4d3696f18bdf24261b81",
            "f6237fc5e79b4452a7fdb5cf9ce1b513"
          ]
        },
        "id": "b-lIn37VJRf1",
        "outputId": "e4f66884-cd10-464e-92b7-bf776f637f26"
      },
      "outputs": [
        {
          "output_type": "display_data",
          "data": {
            "text/plain": [
              "interactive(children=(IntSlider(value=0, description='Time Step:', max=10000), Output()), _dom_classes=('widge…"
            ],
            "application/vnd.jupyter.widget-view+json": {
              "version_major": 2,
              "version_minor": 0,
              "model_id": "611865261d0b411b8694ef15476554aa"
            }
          },
          "metadata": {}
        }
      ],
      "source": [
        "import numpy as np\n",
        "import matplotlib.pyplot as plt\n",
        "from ipywidgets import interactive, widgets\n",
        "from IPython.display import display\n",
        "\n",
        "# Function to generate points on a unit circle\n",
        "def generate_unit_circle(num_points=1000):\n",
        "    theta = np.linspace(0, 2 * np.pi, num_points)\n",
        "    x = np.cos(theta)\n",
        "    y = np.sin(theta)\n",
        "    return x, y\n",
        "\n",
        "# Function to update the 2D plot based on time step\n",
        "def update_plot(time_step):\n",
        "    fig, ax = plt.subplots()\n",
        "\n",
        "    # Plot points at the given time step\n",
        "    ax.scatter(data[time_step][:, 0], data[time_step][:, 1], marker='o', label=f'Time {time_step*0.05:.1f}')\n",
        "    ax.scatter(data[time_step][clusters][:, 0], data[time_step][clusters][:, 1], marker = 'o', s = 30, color = 'red', label = f'Clusters' )\n",
        "    ax.scatter(data[time_step][metaclusters][:, 0], data[time_step][metaclusters][:, 1], marker = 'o', s = 10, color = 'black', label = f'Metaclusters')\n",
        "    ax.scatter(data[time_step][0, 0], data[time_step][0, 1], marker = 'o', color = 'yellow', label=f'First token')\n",
        "    # Plot unit circle\n",
        "    num_points_circle = 100\n",
        "    x_circle, y_circle = generate_unit_circle(num_points_circle)\n",
        "    ax.plot(x_circle, y_circle, color='b', alpha=0.2)\n",
        "\n",
        "    # Set labels and title\n",
        "    ax.set_xlabel('X')\n",
        "    ax.set_ylabel('Y')\n",
        "    ax.set_title('Evolution of Points in 2D Space')\n",
        "    ax.legend()\n",
        "    ax.axis('equal')  # Ensure the scale is the same for both axes to accurately represent the circle\n",
        "\n",
        "    plt.show()\n",
        "\n",
        "# Assuming 'data' and 'T' are defined similarly to the 3D case\n",
        "# Create a slider to select the time step\n",
        "time_step_slider = widgets.IntSlider(value=0, min=0, max=len(data)-1, step=1, description='Time Step:', continuous_update=True)\n",
        "\n",
        "# Display the interactive plot\n",
        "interactive_plot = interactive(update_plot, time_step=time_step_slider)\n",
        "display(interactive_plot)\n"
      ]
    },
    {
      "cell_type": "code",
      "execution_count": null,
      "metadata": {
        "colab": {
          "base_uri": "https://localhost:8080/"
        },
        "id": "YtDQq6cWW1ss",
        "outputId": "1f7eac3f-c360-442c-bb9b-b9126c20c7e4"
      },
      "outputs": [
        {
          "name": "stderr",
          "output_type": "stream",
          "text": [
            "100%|██████████| 145/145 [00:43<00:00,  3.32it/s]\n",
            "  0%|          | 0/145 [00:00<?, ?it/s]<ipython-input-30-75646614ceb7>:51: DeprecationWarning: Starting with ImageIO v3 the behavior of this function will switch to that of iio.v3.imread. To keep the current behavior (and make this warning disappear) use `import imageio.v2 as imageio` or call `imageio.v2.imread` directly.\n",
            "  image = imageio.imread(filename)\n",
            "100%|██████████| 145/145 [00:01<00:00, 142.53it/s]\n"
          ]
        },
        {
          "name": "stdout",
          "output_type": "stream",
          "text": [
            "GIF saved as animation.gif\n"
          ]
        }
      ],
      "source": [
        "# This part is for drawing a gif from data\n",
        "\n",
        "import numpy as np\n",
        "import matplotlib.pyplot as plt\n",
        "import imageio\n",
        "import os\n",
        "\n",
        "# Function to generate points on a unit circle\n",
        "def generate_unit_circle(num_points=1000):\n",
        "    theta = np.linspace(0, 2 * np.pi, num_points)\n",
        "    x = np.cos(theta)\n",
        "    y = np.sin(theta)\n",
        "    return x, y\n",
        "\n",
        "# Function to create and save plot for each time step\n",
        "def create_plot_for_gif(time_step, data, filename_prefix):\n",
        "    fig, ax = plt.subplots()\n",
        "\n",
        "    # Plot points at the given time step\n",
        "    ax.scatter(data[time_step][:, 0], data[time_step][:, 1], marker='o', label=f'Time {time_step*epsilon:.1f}')\n",
        "    ax.scatter(clusters[:, 0], clusters[:, 1], marker = 'o', s = 30, color = 'red', label = f'Clusters' )\n",
        "    ax.scatter(metaclusters[:, 0], metaclusters[:, 1], marker = 'o', s = 10, color = 'black', label = f'Metaclusters')\n",
        "    ax.scatter(data[time_step][0, 0], data[time_step][0, 1], marker = 'o', color = 'yellow', label=f'First token')\n",
        "    # Plot unit circle\n",
        "    # Plot unit circle\n",
        "    num_points_circle = 100\n",
        "    x_circle, y_circle = generate_unit_circle(num_points_circle)\n",
        "    ax.plot(x_circle, y_circle, color='b', alpha=0.2)\n",
        "\n",
        "    # Set labels and title\n",
        "    ax.set_xlabel('X')\n",
        "    ax.set_ylabel('Y')\n",
        "    ax.set_title('Evolution of Points in 2D Space')\n",
        "    ax.legend()\n",
        "    ax.axis('equal')\n",
        "\n",
        "    # Save the figure\n",
        "    plt.savefig(f\"{filename_prefix}_{time_step:03d}.png\")\n",
        "    plt.close()\n",
        "\n",
        "# Assuming 'data' and 'T' are defined\n",
        "filename_prefix = \"plot_frame\"\n",
        "gif_filename = \"animation.gif\"\n",
        "\n",
        "time = list(range(0, 1000, 10)) + list(range(1000, T, 200))\n",
        "\n",
        "# Generate and save plots for each time step\n",
        "for time_step in tqdm(time):\n",
        "    create_plot_for_gif(time_step, data, filename_prefix)\n",
        "\n",
        "# Create GIF\n",
        "with imageio.get_writer(gif_filename, mode='I') as writer:\n",
        "    for time_step in tqdm(time):\n",
        "        filename = f\"{filename_prefix}_{time_step:03d}.png\"\n",
        "        image = imageio.imread(filename)\n",
        "        writer.append_data(image)\n",
        "        # Optionally, remove the file after adding it to the GIF\n",
        "        os.remove(filename)\n",
        "\n",
        "print(f\"GIF saved as {gif_filename}\")\n"
      ]
    }
  ],
  "metadata": {
    "colab": {
      "provenance": []
    },
    "kernelspec": {
      "display_name": "Python 3",
      "name": "python3"
    },
    "language_info": {
      "name": "python"
    },
    "widgets": {
      "application/vnd.jupyter.widget-state+json": {
        "611865261d0b411b8694ef15476554aa": {
          "model_module": "@jupyter-widgets/controls",
          "model_name": "VBoxModel",
          "model_module_version": "1.5.0",
          "state": {
            "_dom_classes": [
              "widget-interact"
            ],
            "_model_module": "@jupyter-widgets/controls",
            "_model_module_version": "1.5.0",
            "_model_name": "VBoxModel",
            "_view_count": null,
            "_view_module": "@jupyter-widgets/controls",
            "_view_module_version": "1.5.0",
            "_view_name": "VBoxView",
            "box_style": "",
            "children": [
              "IPY_MODEL_89353d31bc4e460881f408070cea23a0",
              "IPY_MODEL_0cc14a4dcb16453b89f473ce5701ad3e"
            ],
            "layout": "IPY_MODEL_7f4cd9d458944183901b83e69a118249"
          }
        },
        "89353d31bc4e460881f408070cea23a0": {
          "model_module": "@jupyter-widgets/controls",
          "model_name": "IntSliderModel",
          "model_module_version": "1.5.0",
          "state": {
            "_dom_classes": [],
            "_model_module": "@jupyter-widgets/controls",
            "_model_module_version": "1.5.0",
            "_model_name": "IntSliderModel",
            "_view_count": null,
            "_view_module": "@jupyter-widgets/controls",
            "_view_module_version": "1.5.0",
            "_view_name": "IntSliderView",
            "continuous_update": true,
            "description": "Time Step:",
            "description_tooltip": null,
            "disabled": false,
            "layout": "IPY_MODEL_7a2c77dcd2ab4fb8af455d0a1cb02a34",
            "max": 10000,
            "min": 0,
            "orientation": "horizontal",
            "readout": true,
            "readout_format": "d",
            "step": 1,
            "style": "IPY_MODEL_8365e2569d1e4d3696f18bdf24261b81",
            "value": 0
          }
        },
        "0cc14a4dcb16453b89f473ce5701ad3e": {
          "model_module": "@jupyter-widgets/output",
          "model_name": "OutputModel",
          "model_module_version": "1.0.0",
          "state": {
            "_dom_classes": [],
            "_model_module": "@jupyter-widgets/output",
            "_model_module_version": "1.0.0",
            "_model_name": "OutputModel",
            "_view_count": null,
            "_view_module": "@jupyter-widgets/output",
            "_view_module_version": "1.0.0",
            "_view_name": "OutputView",
            "layout": "IPY_MODEL_f6237fc5e79b4452a7fdb5cf9ce1b513",
            "msg_id": "",
            "outputs": [
              {
                "output_type": "display_data",
                "data": {
                  "text/plain": "<Figure size 640x480 with 1 Axes>",
                  "image/png": "iVBORw0KGgoAAAANSUhEUgAAAksAAAHHCAYAAACvJxw8AAAAOXRFWHRTb2Z0d2FyZQBNYXRwbG90bGliIHZlcnNpb24zLjcuMSwgaHR0cHM6Ly9tYXRwbG90bGliLm9yZy/bCgiHAAAACXBIWXMAAA9hAAAPYQGoP6dpAACl+0lEQVR4nOzdd3gU1frA8e/M1vQChASMELqRjoKIWJASwYJiFxFUVAQVwca9IiAKYsWOegVF9KfXK3JFMErRqyISBBEDioABVBJaSEL67s78/pjsJJtGkCSbTd7P8+QhM3t29mwSdt895z3vUXRd1xFCCCGEEJVS/d0BIYQQQoiGTIIlIYQQQohqSLAkhBBCCFENCZaEEEIIIaohwZIQQgghRDUkWBJCCCGEqIYES0IIIYQQ1ZBgSQghhBCiGhIsCSGEEEJUQ4IlIRowRVGYOXNmrV7zrbfeQlEU9uzZU6vXrW1PPfUU7dq1w2Kx0LNnz3p73Lr4mf9dgfK7EqKxk2BJiOPwvmFV9fX999/7u4uVmjNnDsuWLfN3N/6WL774ggceeIABAwawaNEi5syZU2XbsWPH+vw+wsPD6dGjB8888wxFRUX12OuG/zM/cuQITz31FOeeey4tWrQgMjKSs846iw8++KBC2/J/906nk1atWjFs2DBeeOEFjh07VuPH3bNnD+PGjaN9+/Y4nU5iY2M599xzmTFjRm0+PSHqjNXfHRAiUDz66KMkJCRUON+hQwc/9Ob45syZw5VXXsnIkSN9zt94441ce+21OBwO/3SsBtauXYuqqrz55pvY7fbjtnc4HPzrX/8CICsri48++oj77ruPjRs38v7775/QYxcUFGC1/r2Xxqp+5n9Xbf+u1q9fzz//+U+GDx/Oww8/jNVq5aOPPuLaa69l+/btzJo1q8J9vH/3LpeLjIwMvvrqKyZPnsyzzz7LJ598Qvfu3at9zF27dnHmmWcSFBTEzTffTNu2bUlPT2fz5s3Mmzev0scUoqGRYEmIGrrooos444wz/N2Nk2axWLBYLP7uRrUOHjxIUFBQjQIlAKvVyujRo83jO++8k379+vHBBx/w7LPP0qpVqxo/ttPpPOH+1pXa/l2dfvrp7Ny5kzZt2pjn7rzzTgYPHsy8efN44IEHCAkJ8blP+b/7adOmsXbtWi6++GIuvfRSfvnlF4KCgqp8zOeee47c3Fy2bNni87hg/J6FCAQyDSdELXC5XERHRzNu3LgKt+Xk5OB0OrnvvvvMcwcPHuSWW26hZcuWOJ1OevTowdtvv33cxxk7dixt27atcH7mzJkoimIeK4pCXl4eb7/9tjmNMnbsWKDqPJhXXnmF008/HYfDQatWrZg4cSJZWVk+bc4//3y6du3K9u3bueCCCwgODqZ169Y8+eSTx+07gNvtZvbs2bRv3x6Hw0Hbtm35xz/+4TNdpigKixYtIi8vz+z7W2+9VaPre6mqyvnnnw9gPs+a/szL5yx5f7a7du1i7NixREZGEhERwbhx48jPz/e5X1U/82PHjjF58mTatm2Lw+EgJiaGIUOGsHnz5mqfR2W/q7Zt23LxxRfz7bff0rdvX5xOJ+3atWPx4sXH/bkkJCRUCFgURWHkyJEUFRXx+++/H/caAIMGDWL69Ons3buXJUuWVNt29+7dnHLKKRUeFyAmJsbn2PvcvvjiC3r27InT6SQxMZGlS5f6tMvMzOS+++6jW7duhIaGEh4ezkUXXcRPP/1U4TEKCwuZOXMmnTp1wul0EhcXxxVXXMHu3bvNNpqmMX/+fE4//XScTictW7bk9ttv5+jRozX6eYjGT4IlIWooOzubw4cP+3wdOXIEAJvNxuWXX86yZcsoLi72ud+yZcsoKiri2muvBYxpnvPPP5933nmHG264gaeeeoqIiAjGjh3L888/Xyt9feedd3A4HAwcOJB33nmHd955h9tvv73K9jNnzmTixIm0atWKZ555hlGjRvHaa68xdOhQXC6XT9ujR4+SlJRk5gV16dKFBx98kM8+++y4/br11lt55JFH6N27N8899xznnXcec+fONX823r4PHDgQh8Nh9v3cc8894Z+B982wWbNmtfIzv/rqqzl27Bhz587l6quv5q233vKZQqruZ37HHXfw6quvMmrUKF555RXuu+8+goKC+OWXX074eYExtXXllVcyZMgQnnnmGaKiohg7dizbtm37W9fLyMgAoHnz5jW+z4033ggY+WXVadOmDX/88Qdr166t0XV37tzJNddcw0UXXcTcuXOxWq1cddVVrFq1ymzz+++/s2zZMi6++GKeffZZ7r//fn7++WfOO+889u/fb7bzeDxcfPHFzJo1iz59+vDMM89wzz33kJ2dTWpqqtnu9ttv5/7772fAgAE8//zzjBs3jnfffZdhw4ZV+PsXTZQuhKjWokWLdKDSL4fDYbb7/PPPdUBfvny5z/2HDx+ut2vXzjyeP3++DuhLliwxzxUXF+v9+/fXQ0ND9ZycHPM8oM+YMcM8vummm/Q2bdpU6OOMGTP08v+dQ0JC9JtuuqnK55OWlqbruq4fPHhQt9vt+tChQ3WPx2O2e+mll3RAX7hwoXnuvPPO0wF98eLF5rmioiI9NjZWHzVqVIXHKmvLli06oN96660+5++77z4d0NeuXevzPENCQqq9Xvm2hw4d0g8dOqTv2rVLnzNnjq4oit69e3dd10/uZ+792d58880+j3v55ZfrzZo18zlX1c88IiJCnzhxYo2eT1nlf1e6rutt2rTRAf3rr782zx08eFB3OBz61KlTT/gxjhw5osfExOgDBw6s9LE3btxY5X0jIiL0Xr16VXv91NRUPSgoSAf0nj176vfcc4++bNkyPS8vr0Jb73P76KOPzHPZ2dl6XFycz+MUFhb6/K3quq6npaXpDodDf/TRR81zCxcu1AH92WefrfBYmqbpuq7r33zzjQ7o7777rs/tycnJlZ4XTZOMLAlRQy+//DKrVq3y+So7mjJo0CCaN2/us7Lo6NGjrFq1imuuucY8t3LlSmJjY7nuuuvMczabjbvvvpvc3Fz+97//1c8TKrF69WqKi4uZPHkyqlr6kjB+/HjCw8NZsWKFT/vQ0FCf/CC73U7fvn2PO4WzcuVKAKZMmeJzfurUqQAVHudE5OXl0aJFC1q0aEGHDh34xz/+Qf/+/fn444/Nxz7Zn/kdd9zhczxw4ECOHDlCTk7Oce8bGRnJhg0bfEY9TkZiYiIDBw40j1u0aEHnzp1rPI3mpWkaN9xwA1lZWbz44osn3I/Q0NDjroo7/fTT2bJlC6NHj2bPnj08//zzjBw5kpYtW/LGG29UaN+qVSsuv/xy8zg8PJwxY8bw448/miNgDofD/Fv1eDwcOXKE0NBQOnfu7DO1+dFHH9G8eXPuuuuuCo/jnbb+8MMPiYiIYMiQIT6jxn369CE0NJQvv/zyhH8uovGRBG8haqhv377VJnhbrVZGjRrFe++9R1FREQ6Hg6VLl+JyuXyCpb1799KxY0efwATgtNNOM2+vT97H69y5s895u91Ou3btKvTnlFNO8cmPAoiKimLr1q3HfRxVVSusHoyNjSUyMvKknrfT6WT58uWA8UaakJDAKaec4vPYJ/szP/XUU32Oo6KiACMgDg8Pr/a+Tz75JDfddBPx8fH06dOH4cOHM2bMGNq1a3f8J1eDvnj7c6I5NnfddRfJycksXryYHj16nHA/cnNzK+QdVaZTp0688847eDwetm/fzqeffsqTTz7JbbfdRkJCAoMHDzbbdujQocLfV6dOnQAj/yw2NhZN03j++ed55ZVXSEtLw+PxmG2bNWtmfr979246d+5c7erGnTt3kp2dXeXzkCR0ARIsCVGrrr32Wl577TU+++wzRo4cyb///W+6dOnyt96IKlP+TcSr7JtFXatqdZau6zW6f1XP4WRYLBafN9y6cDLP++qrr2bgwIF8/PHHfPHFFzz11FPMmzePpUuXctFFF9VrX7xmzZrFK6+8whNPPGHmH52IP//8k+zs7BMqnWGxWOjWrRvdunWjf//+XHDBBbz77rsn/LubM2cO06dP5+abb2b27NlER0ejqiqTJ09G07QTupamacTExPDuu+9WenuLFi1O6HqicZJgSYhadO655xIXF8cHH3zAOeecw9q1a/nnP//p06ZNmzZs3boVTdN8Rjp+/fVX8/aqREVFVVihBpWPjNQ0KPE+3o4dO3xGOoqLi0lLS6u1IKRNmzZomsbOnTvNER2AAwcOkJWVVe3zro3H/rs/8xNR3c88Li6OO++8kzvvvJODBw/Su3dvHn/88b8VLJ2sl19+mZkzZzJ58mQefPDBv3WNd955B4Bhw4b9rft7R2nT09N9zu/atQtd131+lr/99huAuRL0P//5DxdccAFvvvmmz32zsrJ8ktTbt2/Phg0bcLlc2Gy2SvvRvn17Vq9ezYABA6otgSCaNslZEqIWqarKlVdeyfLly3nnnXdwu90+U3AAw4cPJyMjwye3ye128+KLLxIaGsp5551X5fXbt29Pdna2z5RXenq6mZtTVkhISKWBVXmDBw/Gbrfzwgsv+IxMvPnmm2RnZzNixIjjXqMmhg8fDsD8+fN9zj/77LMAtfY4VT323/2Zn4jKfuYej4fs7GyfczExMbRq1areK4wDfPDBB9x9993ccMMN5s/+RK1du5bZs2eTkJDADTfcUG3bb775ptIVZd4ctvLTv/v37/f5e87JyWHx4sX07NmT2NhYwBihKj+K9uGHH/LXX3/5nBs1ahSHDx/mpZdeqvD43vtfffXVeDweZs+eXaGN2+2u0f8h0fjJyJIQNfTZZ5+ZIxFlnX322T4jMtdccw0vvvgiM2bMoFu3bj6jKAC33XYbr732GmPHjmXTpk20bduW//znP6xbt4758+cTFhZWZR+uvfZaHnzwQS6//HLuvvtu8vPzefXVV+nUqVOFmj19+vRh9erVZlHGhIQE+vXrV+GaLVq0YNq0acyaNYukpCQuvfRSduzYwSuvvMKZZ57pk8x9Mnr06MFNN93E66+/TlZWFueddx4pKSm8/fbbjBw5kgsuuKBWHqcyJ/MzPxGV/cw7d+7MKaecwpVXXkmPHj0IDQ1l9erVbNy4kWeeeaZWHremUlJSGDNmDM2aNePCCy+sMPVU/m8ZSv/u3W43Bw4cYO3ataxatYo2bdrwySefHLeI57x589i0aRNXXHGFWe178+bNLF68mOjoaCZPnuzTvlOnTtxyyy1s3LiRli1bsnDhQg4cOMCiRYvMNhdffDGPPvoo48aN4+yzz+bnn3/m3XffrdD3MWPGsHjxYqZMmUJKSgoDBw4kLy+P1atXc+edd3LZZZdx3nnncfvttzN37ly2bNnC0KFDsdls7Ny5kw8//JDnn3+eK6+88kR/1KKx8eNKPCECQnWlAwB90aJFPu01TdPj4+N1QH/ssccqveaBAwf0cePG6c2bN9ftdrverVu3CtfR9YrL2HVd17/44gu9a9euut1u1zt37qwvWbKk0tIBv/76q37uueeay7a9S9orW46u60apgC5duug2m01v2bKlPmHCBP3o0aM+bc477zz99NNPr9DPqkoalOdyufRZs2bpCQkJus1m0+Pj4/Vp06bphYWFFa53oqUDjufv/sy9P9tDhw75tKvs51jZz7yoqEi///779R49euhhYWF6SEiI3qNHD/2VV145bp+rKh0wYsSICm3PO+88/bzzzqvR9Wryt1y+rd1u12NjY/UhQ4bozz//vE+5heqsW7dOnzhxot61a1c9IiJCt9ls+qmnnqqPHTtW3717t09b73P7/PPP9e7du+sOh0Pv0qWL/uGHH/q0Kyws1KdOnarHxcXpQUFB+oABA/T169dX+jPIz8/X//nPf5p/c7GxsfqVV15Z4bFff/11vU+fPnpQUJAeFhamd+vWTX/ggQf0/fv31+h5isZN0fUTyAgUQggh6kjbtm3p2rUrn376qb+7IoQPyVkSQgghhKiGBEtCCCGEENWQYEkIIYQQohqSsySEEEIIUQ0ZWRJCCCGEqIYES0IIIYQQ1ZCilLVA0zT2799PWFhYnex7JYQQQojap+s6x44do1WrVhU22i5LgqVasH//fuLj4/3dDSGEEEL8DX/88QennHJKlbdLsFQLvFsl/PHHH4SHh/u5N0IIIYSoiZycHOLj44+75ZEES7XAO/UWHh4uwZIQQggRYI6XQiMJ3kIIIYQQ1ZBgSQghhBCiGhIsCSGEEEJUQ4IlIYQQQohqSLAkhBBCCFENCZaEEEIIIaohwZIQQgghRDUkWBJCCCGEqIYES0IIIYQQ1ZAK3kKIRs+j6aSkZXLwWCHRwXZ+zcjhj6MFtIkO5sb+bQF4Z/0e9mbm0yY6mOv7tWHLH1kcPFZITJiTPm2i2Lgnk3U7D7P1zyycNpXYCCc946PILnARHWInNiKIvgnRAHy/+wjrfz8MKPRv34yz2jXDosom20IEKkXXdd3fnaipr7/+mqeeeopNmzaRnp7Oxx9/zMiRI6u9z1dffcWUKVPYtm0b8fHxPPzww4wdO9anzcsvv8xTTz1FRkYGPXr04MUXX6Rv37417ldOTg4RERFkZ2fLdidCNDDJqenMWr6d9OzCKtsoQHUvhIoCNXmljAy2UezWyC/2+JwPcVi49ox4BifG0jchWgInIRqImr5/B9TIUl5eHj169ODmm2/miiuuOG77tLQ0RowYwR133MG7777LmjVruPXWW4mLi2PYsGEAfPDBB0yZMoUFCxbQr18/5s+fz7Bhw9ixYwcxMTF1/ZSEECeg7AhR81AH6HA4r4iYMGelQUhyajoTlmyuNhCC6gMlqFmgBJCV76r0fF6RhzfX7eHNdXuIi3Ay45JEkrrG+TynjJxCMnOLfEapJKgSomEIqJGlshRFOe7I0oMPPsiKFStITU01z1177bVkZWWRnJwMQL9+/TjzzDN56aWXANA0jfj4eO666y4eeuihGvVFRpaEqHvHGyGqLAg5Z97aakeUKqPrgK4YEZQCZihVErccZ7/N4/Le/dXRvQGqfE7ln48QovY1ypGlE7V+/XoGDx7sc27YsGFMnjwZgOLiYjZt2sS0adPM21VVZfDgwaxfv77K6xYVFVFUVGQe5+Tk1G7HhRA+ajJClJFdyIQlm3l1dG+Susaxflcmfx0uBs2K7lHRPQpoaplgSAFN8Tk+0Y+OZuCk6iiKDhYNRdVB0Y1/1ZJjtfQY1QiYpi39maNVjEQBpJd7PjICJYT/NOpgKSMjg5YtW/qca9myJTk5ORQUFHD06FE8Hk+lbX799dcqrzt37lxmzZpVJ30WQvjyaDqzlm+vECjpOuguC7pbRfeooKngUXjwX3tpfmMsG3Z4cB0JrdO+mcGVR0FHAffxFxgrqo5i0TiYpaFYVRSLZnxZPSjl7q5jjDxpms7sFb9UOQI1fcRpRIU4zIR0CaCEqF2NOliqK9OmTWPKlCnmcU5ODvHx8X7skRANX9l8oxN5Q9/weyb7jxSjua0lwVGZAKkSB4td/PxnNtEhdiMwUUtGfCxa6QiQUjLao2B8r/h+j1I6amQGRGa0ppR+rxuNdK1kZEorGa3yqL7HWumolq4p6JoFXJYKffcGUoq1JHiyetifVcid7/1Y5c8nPbvi7TKFJ0TtatTBUmxsLAcOHPA5d+DAAcLDwwkKCsJisWCxWCptExsbW+V1HQ4HDoejTvosRGNRNjjaczif/0vZR0ZO6chIVW/oBQWQmwt5ecb332/xUHy48hEiRdVLgoqSQMiioagaYXF5XNa7Fa9vd5GRXXjcBO7qmFNtZlxX9mq6703HoeuUBnpuizE9WHKslwRVpYGUrbQPVg3V5kGxeVBsbiOYquZBM7ILuWPJZi7q2pL2LcKkfIEQJ6lRB0v9+/dn5cqVPudWrVpF//79AbDb7fTp04c1a9aYieKaprFmzRomTZpU390VolHwaDovrd3JonV7yCqoOicnI7uQO97ZzPwre9P/1Dhyc+HYMfD4rronKtiOomAGRd4RF8VWkg9UidbNnNisCjMuSWTCks3HLQ1QXxQFFJsGNg1w+9xWNpDS3ZbSUTSPgu5W8bhVKCgNoEqDJw+q3Y1iKX2G3u8+Sz0AHOClL3cRGWxjzshuRIXYZbpOiBMUUMFSbm4uu3btMo/T0tLYsmUL0dHRnHrqqUybNo2//vqLxYsXA3DHHXfw0ksv8cADD3DzzTezdu1a/v3vf7NixQrzGlOmTOGmm27ijDPOoG/fvsyfP5+8vDzGjRtX789PiEBTfmrtaF4x/1j2c5VL6M08o2IrWrEF3WVl+tt/8OZNseabtqpCaCiEhEBwMJyWGMHr24trNEKkALERTrM4ZFLXOF4d3dvvdZbKPxZARLCN7HyX+bhVBVK6R0F3WdBcJQGUy4qug+byncpTrRqKw2UETnZPhZGnrHwXd7632eecTNcJUTMBFSz98MMPXHDBBeaxN2/opptu4q233iI9PZ19+/aZtyckJLBixQruvfdenn/+eU455RT+9a9/mTWWAK655hoOHTrEI488QkZGBj179iQ5OblC0rcQwtfKrek8/N9UMvOKq22nawpakRWtyIpeZKsQdBzJK2JvThbndo0iNNQIkHzf6Gs2QuS9y4xLEn1GS5K6xjEkMdYvFbx3H8pjQ1qmz88otiRAAZiwxDd4qfR5WXQUixvVWSaAcqulwVOxFc2torlVcDvw5DmMwMvuRrW7UR3GtF1lyq8gFEJULmDrLDUkUmdJNAXFbo23v0tj456jpB3KY+eh3Crb6h4FrdCGVmRDK/ZNZFZU3Xgjt3lQ7MYb+QvX9eSynq2rffwTrbPUUFSX2F7dczJWuSUye8X2446qeQNSvbgkKNV8h5UUi24ETk6X8TMvc7N3NO5/91/Apr1HZYpONCk1ff+WYKkWSLAkGrvHV2zjjW/2VNtGc6loRTb0QpsxylGGYtVQHS5UpwvVVnGU4//Gn0X/9s2O248TreAdCI5XP6mmVcjL0lwqepENrWS6syxF1Y3fg9OFai+dLowOsfuMgEWH2BnZsxVDZIsW0YhJsFSPJFgSjdn4xRtZtf1gpbfpbhVPgQ2t0G4UfSxDtXmMN+RqpoG8oxrfPjhI3oyrUZP97aqi65gjTlqhzWfUSbHoRhAbVFxpEOsVGWRj3IAEJg3qIL8n0ahIsFSPJFgSjdXyn/Zz1//51vDRdYwptgK7z6iFmSfjDZCqWKlmti/5V/JlaqaqEaijecXMXlGzQMoMnAptRuBU5lekWDRUpwtLkKvK4FY2BBaNjQRL9UiCJdEYlM+t6dMmij6PreJYoZFYrBVbzCCp7KuGanejBhnTOieyb1pDzTEKRN7f3ertGby5bk+N7qProBdZ8RTaKiTeqzYPanAxqtNFcfoOXJl/YYtujaNVZ7NNsM3C8G6xzLmiO3br8SuXC9EQSbBUjyRYEoGusmme6BAbR4650QpseArs6GXykBSLhhrkwhJU7FPfpzoRQVZuHpBA2+YhAZ1j1NAlp6bz0NKqyzdURtcwkvELbWhFpYukj21aRl7q+8AhwEV4v1FEnV+xrMqFXVpw68D28jsVAUeCpXokwZIIZJUlEGsuFS3fgadMEURFAcVhBEiqo+o6QuVFBtsYd7bku9Qnj6ab5QtAoX/7ZmTnF1fYXy46xEZmnm9QpXsUPAV2Cvfu58inz5e5JQs4SOyNs3xGmMqKDrHx2GVdGd69Va0/JyHqQk3fvwOqzpIQonaV36RWK7LgyXf4jC6oNo+RAOx0VdjotTLjB7ZlUJdYWYLuRxZVYUDH5gzo2Nzn/LCucRWmWs976kuf0gSKRccaWoSu/QTsBmKAMCASiKRgrxtrhB01qLjC30Nmnos73/uRi1MzeP7aXvJ7F42GBEtCNHKVjTJ49wlLSctkf1ahsVIq1+mz5F91urAEF/ssL6+OjCo0fBZVqVCioaqCn/ZmrYHski8HRtDUDGtoK9zHnCi5TtSgYiyhRRWS+T/dms63Ow/xxKjukpMmGgWZhqsFMg0nGqpVKbv47aHZXPHDCmJyMzkYGs17PZL4z7lXMf2avhw6DNPe/c3Y2BVjqk0NKsYSXFzliqiybBaFG89qI7V4AlxVpQmOfrWInA0fmcdhfa8mot+tePLsFf9mQooqzV9bIKsdRQMmOUv1SIIl0RCtStlF7KVJJB78nR90nd+ATkAvLHzb/ExuTXqUK/p35t2UvUahwqBiLCHFlS75L1+wMMimMn5gO+4Z3EkCpEai7Iq693/4g7wiY0SxaH/lq+G0IiueXIexRx1VB01xEU7WTj2f9zbsNbeTubF/W1lBJxoECZbqkQRLoqHxaDr/GjqOW9cu5h+6zpPmLS0YSxwTsPF/PZNYe+7FWEOLOOLOLS18VIZshdE0eTSdl9buZNG6PWQVVL+qriZBU/mNiFUFxg9MYNrwxDp7DkLUhARL9UiCJdHQrN99hLa9OrPv2BHOAiAaaAXYAXiXQnqFFpJ05wtMGdKR+at3Ar45K1I0UnhHm1Ztz+C9DfsodFc9NVs+aAKwBFc9PQdw+7kSMAn/qun7t4yDCtEIHTxWSExuJlsIB04D2mIESi5gL2620ykvDUWBts1DeHV0b2IjnD7XiI1wSqDUxHkTwh+55HS2PZrExd3jKhuABEB1uLE1y8MWlY9qM6bwPPl2XIfDcB9zUNnH8te/TuOb3w7h0eQzu2jYZDWcEI1QmMXJd8F9cZo1dDxABnAQ0OkEHAyNBiAmzEn/9s0Ykhjrs6xcptpEWRZV4aXre/Ps1RrvrN/DR5v/Ynt6ToV2qsON6nAbZShynWguC548B1qhHUtoIZag0mk9HbhxYYpUcxcNnowsCRGAPJrO+t1H+O+Wv1i/+4j5ybyoCHbvhtDCaD5LHEYiMIEDQCpwANB5EDhTUXivRxJxEUZQBKWjCJf1bE3/9s0kUBKVsltVbhnYjpX3DOSV63sT6qj8M7fq8GBrloc1Mh/FoqN7FNzZQbiOhKC5fN96MrILmbBkM8mp6fXxFIQ4YTKyJESA8OaPfLEtnf9s/pNjhaX1j2LDndx9dldOi2iJphmBT+I/x2G57d+8eGg/Y3SdnUBHjEBpe0w73jxzJM9ekihBkfjbhnePY1jX2EqTwcOdVnIK3VicblTHMWN0Kc/IadKOhGIJcmEJLTQCqZL7/OPjnylwacSGy8imaFgkwbsWSIK3qGtV1cEBY4Nbd3YQeFSmXdSFYb1acOqp4HRWXWfpo3Ov4pHr+sq0h6g15Tdi7hkfyekzkimbjqR7FNzHnGiFxjY6igKWkCLUkKIKmzDL1JyoD7Iarh5JsCTqUmV7twHomoLnmNPcv01RdVq31vl+1rk+n8irq+AtRF2au3I7r32dVuG8VmzBc8xZWm7AomENL/DZc1BWY4r6IHvDCdEIlN+7zTxfYMNzzImuGW8pliAXlrBCDrmMT/dlt7Soap8wIeqatyzAG9+k+YwwqXYParO80r9jj4rraIhRaiCs0KjLhBEwzVq+nSGJsRLcC7+SBG8hGiiPpvPWujSfqTfdreLKDMGdHYSuKShWDVt0HtaIArPy9sFjFafqhPCXacMT+XX2RfxzeBeC7Raf2yxBLmzNj5kr5IxSA6FoRUY7HUjPLiQlLbO+uy2EDxlZEqIBqixHyZPrwJ3rAKrP9YgJ862XJIS/2a0q489tT3x0MBOWbAZKC6AqKlgjClCdLtw5QZWOMh08VlghJ0oSwEV9kmBJiAbEu83EcyUVtaEkKTY7GK3Y+LStOtxYwwor3eg2OsRmlgIQoqFJ6hrHq6N7V7pYwShqeQxPrhNPvh1Pvh2tyIo1vIA9h/M4Z95an/tIArioT5LgXQskwVucLCNI2sXCdWlkl1l+7Sm04skORtdLRpPCCrAEV71X1yvX92J491b10WUh/jbvKFFGdgGzV/zC0bxin7w8rciKOycIPAphTit5ar45yuQlCeCiNkiCtxABIjk1nYeW/kxWfpnKxjp4coLMlW6qzWPkJVUymuR1+7kJEiiJgOAtgAoQZLcwYclmFEqn5lSHG3vJKJOuWUtHmSLzUW3G/wFv26n//okQu5WzOzSXaTlRZyTBWwg/Sk5N544lm30CJa3YgutwqBkoWUKKsEbnVRkoNQux88r1vWVDUhGQvFNz5fcmjItyct8Vp1IYlF1SAVzFdSQUT77dp11esYcbF6bQ57FVUgFc1BkZWRLCD7y1jx766GfznK6DllcmiduiYw3P96k943XjWafSu020VDoWjUJS17hK9yb8dOv+km1Tjhl5e0VW3DlOtGIL1vAClDIf97PyXdyxZLNMRYs6IcGSEPWsspVuFZK4na4KbwZg5GnERjiZeWlXCZBEo1J2as7Lu7JTUcEWlY8nz25WAHe5LD7Tcl6T/u9HXkJheHfJYxK1R6bhhKhHK7fu544lm30CJc2l4soMRSu2oCjGMmpbZMVAyWuG7Ocmmoi+CdHERTjNZG5LSDG26DwU1ZiWc2eWTld7aTrc+d5mVm6VKTlReyRYEqKeLP9pPxP/70efc54CG+7MUHSPgmLRsDXLNQv0lRcb7pCVP6JJsagKMy7xzcVT7R5szXNR7W50HdzZQUaR1nLruif932ZWbt1fj70VjZkES0LUg7krt3PX//1ovqDrOrhznOaLvFFjJrfKJO57B3di3UMXSqAkmhxvAnh0SOkIkqLqWKPysYQWAcaHDteRUHR36VuaMcL0oyR9i1ohwZIQdcij6Tz9+a8+m4nqGriPBpureiwhRVgj8yuddosKtrFgdG/uGdxRpt5Ek5XUNY7vpw0mOqR0JZyigDW0CFtUybRcyVZA3rw/r1nLt+PRpJygODkBFyy9/PLLtG3bFqfTSb9+/UhJSamy7fnnn4+iKBW+RowYYbYZO3ZshduTkpLq46mIRi45NZ1uM5N56cvd5jndbSx/1oqtxot9ZD7WsIpblkQG2bh3cEd+eHiIjCYJgbFlypzLu1Y4b6yWy0W1auiagiszBE9h6dol2VtO1IaAWg33wQcfMGXKFBYsWEC/fv2YP38+w4YNY8eOHcTExFRov3TpUoqLi83jI0eO0KNHD6666iqfdklJSSxatMg8djgcdfckRJOwcut+7nzPNz9JK7Liziqpxm3RsUbmVVjJExlk4+UbenNWu2YykiREOUld41gwujcPfrSV7AK3eV6x6Fib5eLOCjb/nxFaZE7TfbBxH5+lptMmOpgb+7fFbg24cQLhZwG13Um/fv0488wzeemllwDQNI34+HjuuusuHnrooePef/78+TzyyCOkp6cTEhICGCNLWVlZLFu27G/3S7Y7EWWt3JrOne9t9jnnXfIMJdW4o/JR1Ir/9RZIArcQx+XRdF5cs5P5a3b6nNd18Bxzlk5xl9mM10tR4NZzEvjnCCniKmr+/h0w4XVxcTGbNm1i8ODB5jlVVRk8eDDr16+v0TXefPNNrr32WjNQ8vrqq6+IiYmhc+fOTJgwgSNHjlR7naKiInJycny+hIDKAyX3MYcZKFmCi41q3OUCJUUx9nWTQEmI47OoCpOHdOKV63ujlguErOGFWMOM0hyefLsxmltmAFfX4Y1v0hi/eGM991oEsoAJlg4fPozH46Fly5Y+51u2bElGRsZx75+SkkJqaiq33nqrz/mkpCQWL17MmjVrmDdvHv/73/+46KKL8HgqVk32mjt3LhEREeZXfHz833tSolH5dMtfTCwfKOU48eQZ07qW0CKs4YUV8pMAXrhWqg4LcaKGd4/jpet6VThvCSnGFpmPohjT366S8hxlrdp+kE+3SGkBUTMBEyydrDfffJNu3brRt29fn/PXXnstl156Kd26dWPkyJF8+umnbNy4ka+++qrKa02bNo3s7Gzz648//qjj3ouG7vEV25n0/hZzc09dB1dWkDkdYA0vxFqSP1He7ecmcEkPCZSE+DuGd2/FgtG9iSu3t5zqdGMtu1LuSCiay/ct7x/LfpaVcqJGAibBu3nz5lgsFg4cOOBz/sCBA8TGxlZ737y8PN5//30effTR4z5Ou3btaN68Obt27eLCCy+stI3D4ZAkcGGatTyVRev2mse6bpQG0IqN/17WiIIqC02+cHVPLu3dul76KURjVX5vuRVb9/PF9oNGAcvoPFxHg42K30dDsEaVLqzIKXSTkpZZYZsVIcoLmJElu91Onz59WLNmjXlO0zTWrFlD//79q73vhx9+SFFREaNHjz7u4/z5558cOXKEuDjJHRHHd+vbG30DJQ3cmSFmaQBbVH6VgdL4gQkSKAlRS7x7y13WszX9EkqDH8VqVMZXbR50TcGd6TvCdPBYYWWXE8JHwARLAFOmTOGNN97g7bff5pdffmHChAnk5eUxbtw4AMaMGcO0adMq3O/NN99k5MiRNGvm++khNzeX+++/n++//549e/awZs0aLrvsMjp06MCwYcPq5TmJwPX4iu2s/uWgeax7FGOPN1fJHm9ReagOd6X3HT9QVuMIUVdu7N/WdwWcWvL/0eYxRn5L9mKE0s16hahOwEzDAVxzzTUcOnSIRx55hIyMDHr27ElycrKZ9L1v3z5U1Tf+27FjB99++y1ffPFFhetZLBa2bt3K22+/TVZWFq1atWLo0KHMnj1bptlEtXIL3bzxTZmq3B6jGJ7uUUu2YqhYQ8nrhat7cGnvU+qrq0I0OXaryq3nJPj8H/UGTO6jIWguC+6jIZzSxkPfhGg/9lQEioCqs9RQSZ2lpmXuyu28/nVaaTJ32UDJomGLyq9yj7fbz01g2nAZURKiPoxfvJFV2w/6nDNyCkPQiy38Y0QXxl7UgtBQP3VQ+F2jq7MkREMwd+V2XisbKGkKrqPeQEnHFp1XaaAUYrfwyvW9JVASoh69MeZMXrq2F2HO0kkURYH4Nh4evbIz/du1YOdOOHbMj50UASGgpuGE8Kdit+Y79VaSzK27jak3W1QeiqXiQO2IbrG8cF1v2b5ECD+4uGcrLuoeZ66Uiwlz0jchGgWF3bshJwd27YIOHSAszN+9FQ2VBEtC1IBH05n96Ta8JVm8Q/maN1CqYkRp3IA2zLik4uafQoj6410pV1779vgETB07IlNyolIyDSfEcazcup8zH1/FO9/vA8oESmVWvVUWKA0+LUYCJSEaMFU1RpQiIkDTjICpoMDfvRINkQRLQlRj7srt3Pnej2TmGbWSdB1jZ/PiMuUBKln1Nn5gAv+66cz67q4Q4gQpCrRrByEh4PEYAVNxsb97JRoamYYTogort6bz2tdlcpR0cGcHoRUZBSetkXmodt89BBXg55nDCHXKfy0hAoV3hGnHDigsNAKmzp0BRa+Q6yS5h02TvKILUQmPpvPwf1N9zx1zohXaALBG5qM6Km62fNu5CRIoCRGArFYjZ+nXX42puEUrD/KvrT+TUabCd1yEkxmXJJLUVXZ4aGpkGk6ISqSkZZKZVzoW78mzl26KG5lfoTK3qkgNJSECnd1uBEzfpx3ikY928McfCmUrEWZkFzJhyWaSU9P910nhF/IRWIhKlN0vSiuy4j5mbIlgDSvE4vQNlG4861SmX3w6dqt89hAi0NkdOm+nbkPHgl5ow6PqWMON1wNv3DTzk20MSYyVKbkmRF7dhaiEd78o3a3izgoGwBLkwhLim/kZHWJj5qVdJVASopFIScvkYGEe1sh8ADz5djy5vttfZeQU8dLaXf7onvATeYUXohJ9E6KJDQ3CdTQYXQfV5sESXnFN8WOXdZVPl0I0It5RZYvTjTXM+N6d68BT6DsR89zq32Q6rgmRYEmISqiKwq09ukLJfm/WqHyfXczByFEa3r2VfzoohKgT3lFlAEtIMZZgYzTZkx2M5vJ9y5y1fDseTbZXbQokWBKiEnv3Qq9WMfzz4i7Et9FQ1NIXxGYhdtnnTYhGqm9CNHERZQKmsEJUu8essaaXKauWnl1ISlqmH3op6pskeAtRTkYGHDlifH/j0BbcccX5UmtFiCbCoirMuCSRO5ZsBiipqZaP60goukfFnR2MLSrfbF92MYhovCRYEqKM7Gz46y/j+/h4CA8HqHxfKSFE45TUNY57B3fkudU7AVBUHWtEPq7MELQiK55cB5bQIsB32k40XjINJ0SJ4mLYs8f4vkULiInxa3eEEH40aVBHYsNLAyHV7sFassjDnetAL7ISF2GMNIvGT4IlITC2MklLA7cbgoONUSUhRNNlURVmXpqIgrGNEYAl2IUlyIWCsfXRP5ISZUq+iZBgSQggPR1yc409otq1o8LKNyFE05PUNY5XR/cmtmzCd3gBMVFWHhp2Gh2ccWgV99EWjZDkLIkm79gxI1gCaNMGHI7q2wshmo6krnEMSYz1WeTRs3U0v+1QyM+HffugbVt/91LUNQmWRJPmdhvTbwDNmkG0pB8IIcqxqBUXebRrB7/9ZqycjYiAqCg/dU7UC5mGE03anj3gcoHTCaee6u/eCCECRVgYxMUZ3+/bZ7yOiMZLgiXRZB04YJQKUBTjU6Iq/xuEECcgLs5YEOJ2G4VsReMl03CiScrL862nFBTk3/4IIQKPohj5Sr/8YnzwOnBQ5/djUsC2MZJgSTQ5mmZMv+m6kWfQooW/eySECFRBQdC6Nfz7q0O88dbvZDsyUazGErm4CCczLkkkqWucn3spTpYES6LR82g63+8+wvrfDwMKHUJa0MoRhdOh0KaNv3snhAh0Px5KZ96aHXiKLbj3ZaC5U7E3a00GnZmwZDOvju4tAVOAk2BJNGrJqek8tPRnsvKN7EvNpeI6cpAwp5U5YxLobon1cw+FEIHMo+nMWr4dS0QRWclfkpe6FvgLOEB4v1FEnT+OmZ9sY0hirEzJBTBJaRWNVnJqOncs2WwGSroOnuxgAPL0Qu77ZBPJqen+7KIQIsClpGWSnl1I8YFfyUtdVHK2FeAkZ8NHFO3fQUZOES+u2enPboqTJMGSaJQ8ms7MT7b5nNPy7Whu1dhFvGSPp1nLt+PRdH90UQjRCBw8VgiAK/Mv4AiQhbFBSkKZ8zB/zU7mrtzujy6KWiDBkmiUUtIyycgpMo91t4on19iywBJWgGIxAqT07EJS0jL90kchROCLCTNeV2zRrUvO7APcQBAQU+Y8vPZ1Giu37q/vLopaIMGSaJRe/3q3z7E7JwhdN3YOtwT7Vo/zfjIUQogT1TchmrgIJ45WnQnvNwojUDJGk0K6jsHesotP+wc+2iqj2QFIErxFo7Ny636+3HHIPPYU2NCKLT7Tb2V5PxkKIcSJsqgKMy5J5I4lm4k6fxzBnc7GlfkXiqUr1qgOuI+5sEWWvu7kFnl4ae0u7hnc0Y+9Ficq4EaWXn75Zdq2bYvT6aRfv36kpKRU2fatt95CURSfL6fT941R13UeeeQR4uLiCAoKYvDgwezcKYl4gcqj6dz775/M48I/d3Js88+4Du3FElJk1j/xigyy0TdBNoQTQvx9SV3juLck+HG06kxo10EEdTBW2mqFxoe1sl77ereMLgWYgAqWPvjgA6ZMmcKMGTPYvHkzPXr0YNiwYRw8eLDK+4SHh5Oenm5+7S1Xk/7JJ5/khRdeYMGCBWzYsIGQkBCGDRtGYaFMzQSi73YdpshtBERHv1rEgXfnk/3texxZ+TjZGxdUaD9uQIIs5xVCnLRJgzoSHWI3j1WbhiW4GChNA/DKLzZGl0TgCKhg6dlnn2X8+PGMGzeOxMREFixYQHBwMAsXLqzyPoqiEBsba361bNnSvE3XdebPn8/DDz/MZZddRvfu3Vm8eDH79+9n2bJl9fCMRG37aPOfABTt30HOhpWAd6fwfRxLMZbxeoU6LEwa1KH+OymEaHQsqsJjl3X1PRdahKLq6G4VLd/uc9ui79JkdCmABEywVFxczKZNmxg8eLB5TlVVBg8ezPr166u8X25uLm3atCE+Pp7LLruMbdtKl5OnpaWRkZHhc82IiAj69etX7TWLiorIycnx+RINQ36xG/Au1z2l5GwmkF/mvOHJUd1lVEkIUWuGd4/jku6lhW4VVccSasxSeHKd6J7S15usfJesxA0gARMsHT58GI/H4zMyBNCyZUsyMjIqvU/nzp1ZuHAh//3vf1myZAmapnH22Wfz55/G6IP3fidyTYC5c+cSERFhfsXHx5/MUxO16My2xkiSJTQBCAN0vCtToHR571kJ0Qzv3qr+OyiEaNTmX9ubYHtpjpIa5EK1eYyiuLm+ObOrt1f9PiMaloAJlv6O/v37M2bMGHr27Ml5553H0qVLadGiBa+99tpJXXfatGlkZ2ebX3/88Uct9VicrJvObguAJaQbIV0vBA4ARqmA8H5X4mjVGQVYfEs/f3VRCNGIWVSF289tZx4rCljCSkaXCnyTvd9ct0d2EQgQAVM6oHnz5lgsFg4cOOBz/sCBA8TG1mx/L5vNRq9evdi1y0is897vwIEDxMWVbnJ44MABevbsWeV1HA4HDofjBJ+BqA92q8oNPTqw8PODhJ95MaE94nBn/YktujWOVp0BuO3cBOzWRv05QQjhR5MGdWTRd3vMrZZUuwdLkAtPgQ3PMSdqszyz7azl22XfuAAQMO8YdrudPn36sGbNGvOcpmmsWbOG/v371+gaHo+Hn3/+2QyMEhISiI2N9blmTk4OGzZsqPE1RcPi8cDViZ0Z1as1ttAinKd0IrTrIBytOqMqcPu5CUwbnujvbgohGjGLqvDEFd18z4UWoiiguSxoRaXjFLKLQGAImJElgClTpnDTTTdxxhln0LdvX+bPn09eXh7jxo0DYMyYMbRu3Zq5c+cC8Oijj3LWWWfRoUMHsrKyeOqpp9i7dy+33norYKyUmzx5Mo899hgdO3YkISGB6dOn06pVK0aOHOmvpylOQkYGuN0wYXA7nrmzLUu+38PezHzaRAdzY/+2MqIkhKgXSV3juHlAWxau2wOAYtFRg4rx5NuN0SVHrtk2I0dK1TR0ARUsXXPNNRw6dIhHHnmEjIwMevbsSXJyspmgvW/fPlS19M3w6NGjjB8/noyMDKKioujTpw/fffcdiYmlIwsPPPAAeXl53HbbbWRlZXHOOeeQnJxcoXilaLg8mk5KWiZ/ZRaSmx5CYlwErVsrOGwqtwxsd/wLCCFEHRiSGGsGS2CUEtAKjA29tUIrqtNYvTv7020E2VSSusZVcSXhb4qu61Lo4STl5OQQERFBdnY24eHh/u5Ok5Kcms6s5dtJzy7EnR2Ep8BGy2YWnhiXIC88Qgi/8mg658xbS0Z2Id43WvcxB548B4pVw968dHRJAV4d3Vtet+pZTd+/ZU5CBKzk1HQmLNlMenYhukfBU2AD4Kiew4Qlm2WViRDCr7z7xoERDAHGtksK6G4VT6Hv5M6s5dulUGUDJcGSCEgeTWfW8u3mpzVPnrE6UbW7UeweQF54hBD+l9Q1jldH9yaqZCsURQU1pAgAzzGnuQ2KjiR7N2QSLImAlJKWSXq2kRSpexQ8JVsJWEpehOSFRwjRUCR1jWP6iNPMY0twyTYoHhWt0ObT9uAxSfZuiCRYEgGp7AuKN1BSbR5Uh6fKdkII4S+xEUHm94pa+sHOk+vw2WT390O55e8qGgAJlkRAigkzVivqGmj5xhScJbSoynZCCOFPfROiiYtwmrlLanBx6ehSQeno0vNrdjF35Xb/dFJUSYIlEZC8LzxavvGpTLFqqA63ebsCxEU46ZsQ7b9OCiFEibLJ3lCyDYp3dCnfd0eI175OY+VWWaDSkEiwJAKOt67SsMRYPPl2FEpfdKB01cmMSxJlCwEhRIOR1DWOyYM7mcdqULG5Mk4rsvi0nf7fVFmg0oAEVFFKIcrWVfLk2dE1Jxarhup0mW1iI5zMuCRR6pUIIRqcts2Dze8VldKq3vkOVEe+eduRvGJS0jLp376ZP7opypFgSQQMb10lHdD10nIBSrBRt+SWAW0ZnBhL34RoGVESQjRI5fMoLcFGsKQVWdHdKopVM29bvT1DgqUGQqbhREAoX1dJK7ShawqKqqMGuVCAlakZEigJIRq0vgnRRIeUJnSXzbf0ruz1+njLXzIV10BIsCQCQtm6SgCat1xAcMmcP1JXSQjR8FlUhccu6+p7LtjIudQK7OilA0tk5rnkNa2BkGBJBISy9ZI0l4rmMpIhLUHFVbYTQoiGaHj3Vgzq0sI8Vh0eFKuGrhsBU1nymtYwSLAkAsKew3nm994XE9XhRrH4DlFLXSUhRCAYP7C9z7F3dMmT71ukcs/hfIT/SbAkGrzk1HSeW70TwOeTlyW4dFRJ6ioJIQKJt1aclxrkKilSqaAVla69mr/6N9kUvAGQYEk0aN7Ebi+t0GYUobToKHa3T1upqySECBSVFalUS9IKtHJFKmVTcP+TYEk0aFUmdpcUc/OaPLiT1FUSQgSUpK5x3Du4o3nsHS3Xii3oHuMFThavNAwSLIkGraaJ3WULvQkhRKBo2zzE/F6x6Kg2YzNwSfRuWCRYEg1a2YRtSewWQjQ25V+7vFNxnkJbte1E/ZJgSTRofROiiQ13SGK3EKJR8iZ6e7MKvFs36W4VzaXKa1wDIcGSaNBWbc+g0K0ZWwGUS+yWDXOFEIGubKK3Qsl+cd6AqeQDorzG+Z8ES6LB8u4Fl5XvQisZkladpYndEcE2Xh3dWxK7hRABLalrHK+O7k1sSSkBS5ARLIUSxLDTW5L6Vw7rdh2WFXF+pOi6Lj/9k5STk0NERATZ2dmEh4f7uzuNgkfTOWfeWtKzC9F1cB0MR9fB1iwX1WbsBxAX4eTbBwfJJy4hRKPg0XRS0jJZtS2DxSuyyCvSsEXlm3vHRQbbeOKKbvIBsRbV9P1bRpZEg1S2ZEDZKThvoASynFYI0bhYVIXsgmIWfreHQovx+ucpKE30zsp3cceSzVKk0g8kWBINkk/JAO8UnMNVbTshhAhkHk1n5ifbgDJ5S0U2n811QYpU+oMES6JB8u6HpOvGiwWUvniUJctphRCNRUpaJhk5xh5xqt2DYinZXLfIt4yAjKrXPwmWRIOTnJrO/NW/AaCXnYKze8w2spxWCNHYlB8p935ALLtXXFVtRd2SYEk0KN694LwDzJ4qpuB0ZDmtEKJxqVCgsiSxWy82PjRW11bULQmWRINSNrG7uim4ewd3lBUhQohGxVuE10uxeVAU0DUFvWSrJ5BRdX+QYEk0KGWHlr2fphTVdwoOfPdTEkKIxsCiKsy89HTzWFFAcVScivvnRafJqHo9k2BJNCg+e8EVSmK3EKJpSeoax4LRvYkM9qYgGFNxZZO87/7gR+au3O6X/jVVEiyJBqXsPklasfFJyvtiAZLYLYRo/JK6xrHp4SGM6BZbmrfkVtE9xmiSpsNrX6dJwFSPAi5Yevnll2nbti1Op5N+/fqRkpJSZds33niDgQMHEhUVRVRUFIMHD67QfuzYsSiK4vOVlJRU109DVMG7T5LuVqHkhUH2ghNCNDUeTeez1AwjDcFmpCGULyHwxjdpFLu1yu4ualnF9YgN2AcffMCUKVNYsGAB/fr1Y/78+QwbNowdO3YQExNTof1XX33Fddddx9lnn43T6WTevHkMHTqUbdu20bp1a7NdUlISixYtMo8dDkeFa4n6k9Q1jnmXKTz2wT4yi/LNveBiI5zMuCRRErvrgcfjweWqOP0phM1mw2KxHL+hOCnvrN+Dt+6k6nCjuSxoRVYswcVmG0032t0ysJ2fetl0BFSw9OyzzzJ+/HjGjRsHwIIFC1ixYgULFy7koYceqtD+3Xff9Tn+17/+xUcffcSaNWsYM2aMed7hcBAbG1u3nRcnpO8psbx5U0syXEfRgwuICTOm3mREqW7puk5GRgZZWVn+7opowCIjI4mNjUVR5P9jXdmbmW9+rzhckOsoXfSiVN5O1J2ACZaKi4vZtGkT06ZNM8+pqsrgwYNZv359ja6Rn5+Py+UiOto33+Wrr74iJiaGqKgoBg0axGOPPUazZs2qvE5RURFFRUXmcU5Ozgk+G3E8x44ZU3IXdIsmLMzfvWk6vIFSTEwMwcHB8mYofOi6Tn5+PgcPHgQgLk5GeetKm+hg83vVpqFYdHSPgl5sRSmTx1m2nag7ARMsHT58GI/HQ8uWLX3Ot2zZkl9//bVG13jwwQdp1aoVgwcPNs8lJSVxxRVXkJCQwO7du/nHP/7BRRddxPr166scap47dy6zZs36+09GVKuwEFwuUFUIDfV3b5oOj8djBkrVfVgQTVtQUBAABw8eJCYmRqbk6siN/dvy+MpfSqfi7G48BTa0YouZ9K0qRjtR9wIuwfvveuKJJ3j//ff5+OOPcTpLl51fe+21XHrppXTr1o2RI0fy6aefsnHjRr766qsqrzVt2jSys7PNrz/++KMenkHT4R2oCw31HW4WdcuboxQcLJ9URfW8fyOS11Z37FaV8QMTzGPFVrIqzlU6xuG0WVj764F671tTFDDBUvPmzbFYLBw44PuHceDAgePmGz399NM88cQTfPHFF3Tv3r3atu3ataN58+bs2rWryjYOh4Pw8HCfL1F7jh0z/pXpN/+QqTdxPPI3Uj+mDU/k9nMTjOKUJSvidJfF3PqkoNjDhCWbSU5N92Mvm4aACZbsdjt9+vRhzZo15jlN01izZg39+/ev8n5PPvkks2fPJjk5mTPOOOO4j/Pnn39y5MgRmYv3E12XYEkIIbweSDqNmFAHilUztj7RjZpLgLmH5qzl2/FoetUXESctYIIlgClTpvDGG2/w9ttv88svvzBhwgTy8vLM1XFjxozxSQCfN28e06dPZ+HChbRt25aMjAwyMjLIzc0FIDc3l/vvv5/vv/+ePXv2sGbNGi677DI6dOjAsGHD/PIcm7qCAvB4wGIBmQ0StWXs2LGMHDnS390Q4oSlpGVy4FhRyehSxak4HUjPLiQlLdNPPWwaAipYuuaaa3j66ad55JFH6NmzJ1u2bCE5OdlM+t63bx/p6aXDka+++irFxcVceeWVxMXFmV9PP/00ABaLha1bt3LppZfSqVMnbrnlFvr06cM333wjtZb8JC/P+DckRPKVRM2ULypb/mvmzJk8//zzvPXWW37p39atWxk4cCBOp5P4+HiefPLJ495n3759jBgxguDgYGJiYrj//vtxu93HvZ9ofMrul6mU7JGpFVdMqi/bTtS+gFkN5zVp0iQmTZpU6W3lk7L37NlT7bWCgoL4/PPPa6ln4mR5NJ1vfski7U8XHdvYaNc+UuoqBSiPppOSlsnBY4V1XiOr7AekDz74gEceeYQdO3aY50JDQwn107LKnJwchg4dyuDBg1mwYAE///wzN998M5GRkdx2222V3sfj8TBixAhiY2P57rvvSE9PZ8yYMdhsNubMmVPPz0D4W9l9MFWbBw9G3lJ17UTtC7hgSTROyanpzFq+nX27rWhuFWtkPnO/tkrF7gDk/V2mZ5d+0o2rw+rrZRd4REREoChKhUUfY8eOJSsri2XLlgFw/vnn061bNywWC2+//TZ2u53HHnuM66+/nkmTJvGf//yHli1b8uKLL3LRRReZ10lNTeX+++/nm2++ISQkhKFDh/Lcc8/RvHnzSvv27rvvUlxczMKFC7Hb7Zx++uls2bKFZ599tspg6YsvvmD79u2sXr2ali1b0rNnT2bPns2DDz7IzJkzsdvtJ/kTE4HEu19menZh6TScx9gnTrGU5ikdzSuq6hKiFgTUNJxonJJT07ljyWb2ZxWilSQuqlaNjOxCWekRYJJT05mwZLNPoAQ0yN/l22+/TfPmzUlJSeGuu+5iwoQJXHXVVZx99tls3ryZoUOHcuONN5Kfb1RIzsrKYtCgQfTq1YsffviB5ORkDhw4wNVXX13lY6xfv55zzz3XJ8DxbtF09OjRKu/TrVs3n5pyw4YNIycnh23bttXSsxeBwqIqTB+RCICigmI19oIrP7o0e8UvkuRdhyRYEn7l0XQeWvozULrCQ1GMFwRZ6RFYPJrOrOXbqew31RB/lz169ODhhx+mY8eOTJs2DafTSfPmzRk/fjwdO3bkkUce4ciRI2zduhWAl156iV69ejFnzhy6dOlCr169WLhwIV9++SW//fZbpY+RkZFRaSFd7221dR/RuEWFlAbbasnG4lqx78SQJHnXLQmWhF+9tHYXWflGYTvdbXxSUqwe83ZZ6RE4UtIyK4woldXQfpdla65ZLBaaNWtGt27dzHPeAMW7tcdPP/3El19+aeZAhYaG0qVLFwB2795djz0XTY1PknfJ66P3w2VV7UTtkpwl4TceTef1r0vfZLzDyt7ia2XJi0DDV9PfUUP5XdpsNp9jRVF8znkLL2qaMe2Rm5vLJZdcwrx58ypcq6q6bLGxsZUW0vXeVtV9UlJSTug+onErm7xtTsO5Jcm7PsnIkvCb738/Ql5xmVGkaoIleRFo+Gr6OwrU32Xv3r3Ztm0bbdu2pUOHDj5fISEhld6nf//+fP311z7bgqxatYrOnTsTFRVV5X1+/vlnc0TLe5/w8HASExNr90mJgNA3IZrIYCOQN0eWNAVdK20TGWyjb0J0ZXcXtUCCJeE33+067HNc2TQcQIjDIi8CAcC7aqeqAgEKxqq4QP1dTpw4kczMTK677jo2btzI7t27+fzzzxk3bhweT8UAH+D666/Hbrdzyy23sG3bNj744AOef/55pkyZYrb5+OOPzek8gKFDh5KYmMiNN97ITz/9xOeff87DDz/MxIkTpf6bMJK8VSPvr+zokhRZqVsSLAm/+SurwPxed6voemlyd1mnx4VLvaUAYFEVZlxSsmqn3G3e4xmXJAbs77JVq1asW7cOj8fD0KFD6datG5MnTyYyMhJVrfylNCIigi+++IK0tDT69OnD1KlTeeSRR3zKBmRnZ/vUhbJYLHz66adYLBb69+/P6NGjGTNmDI8++midP0fRMKWkZZq5nVBmKs5T+nd3NN/VYPIBGyNF1/WGsTQlgOXk5BAREUF2drZsqnsCnkz+lVe+MnKWtEIrrqxgVKuGrXmuT7s7z2/PA0ldKruEqEWFhYWkpaWRkJCA0/n3p8rqu86SqH+19bciaua/W/7inve3mMfuHCeefDuWkCKsYaX1lW4e0JZHLjndDz0MXDV9/5YEb+E3Azo0N4Ml8xOSteJ0xoAOlRf8Ew1TUtc4hiTG1lsFbyEau/J5foql8iTv/27Zzz9HBO7obUMmwZLwm7PaNSPYbiG/2GMGS94XAa+oYBtntWvmj+6Jk2BRFfq3l9+bELWhb0I00SE2MvOMqbiqygccySsmJS1T/u/VAclZEn6zansG+SWr4UqDJd9Z4blXdJNPSUKIJs2iKlzes7V5XDZnqXwiTUMpzdHYSLAk/MJb7dmrspGlqGAbQxKlrowQQgw6rbSqu2LRKSkDVmF0qXmorJisCxIsCb+oUO25kmBJVncIIUSJciNI5lScR622nagdEiwJvyg7VKxrSulQcrmcJRlSFkIIOJxX5HvC+1pZLliq0E7UCgmWhF+UXd1hbqCrlg4tV9ZOCCGaqgor4ryFKTWl2naidshqOOEXfdpEoSqg6aX/2cuvhFMVo50QQjR13gr5GdmFBBUXcNWmlZyd+isd8n8nOOwY7/VI4qNzrwrYCvkNnYwsCb/YtPcomnfqzVsrpFywpOlGOyGEaOq8FfKDigv44L2HmJjyARn5WSzFyr5jR5i87j1ee3Mqa3/YffyLiRMmwZLwi/I5S1BxZKl8OyFOhqIoLFu2zN/dEOJvG5IYy8Qty0k8+DtzKGYs8ABWzgL+oeskHvydtH8+jkeTLO/aJsGS8AufnKUqaiyVbydEdTIyMrjrrrto164dDoeD+Ph4LrnkEtasWVPrj/XVV1+hKApZWVm1fm0hqpKSlskVP6zgB13nedwlZ20APAls1HUu2bBcVhHXAclZEn5Rdv4dvSRBUSkNlhQgNoB3qBf1a8+ePQwYMIDIyEieeuopunXrhsvl4vPPP2fixIn8+uuv/u5ipXRdx+PxYLXKS7E4voPHCumbm8lqALwb69rM23cCZ+ZmkiIj8rVORpaEX5TdoR7vNFzJ6o7GsEN9k5abC7NnQ3w8WCzGv7NnG+fryJ133omiKKSkpDBq1Cg6derE6aefzpQpU/j+++8rtK9sZGjLli0oisKePXsA2Lt3L5dccglRUVGEhIRw+umns3LlSvbs2cMFF1wAQFRUFIqiMHbsWAA0TWPu3LkkJCQQFBREjx49+M9//lPhcT/77DP69OmDw+Hg22+/5aeffuKCCy4gLCyM8PBw+vTpww8//FBnPy8RmGLCnBwMjaYTgDmyBN5xj47AwdBoGZGvA/JxRvhNUtc4Xr6+F1Nf30NWrsccWYqVHeoDV24unHcebNkCWkkO2p9/wsyZsGwZ/O9/EBpaqw+ZmZlJcnIyjz/+OCEhIRVuj4yM/FvXnThxIsXFxXz99deEhISwfft2QkNDiY+P56OPPmLUqFHs2LGD8PBwgoKCAJg7dy5LlixhwYIFdOzYka+//prRo0fTokULzjvvPPPaDz30EE8//TTt2rUjKiqKc889l169evHqq69isVjYsmULNputqq6JJqpPmyhe6pnEPd++xwO6zpO4MEaWbDyImzMVhed7JjFJVhHXOgmWhN8kp6Yze8UvZOfZAWNkKTrEzvQREigFrOee8w2UvDTNOP/cczB9eq0+5K5du9B1nS5dutTqdfft28eoUaPo1q0bAO3atTNvi442podjYmLMYKyoqIg5c+awevVq+vfvb97n22+/5bXXXvMJlh599FGGDBni81j333+/+Rw6duxYq89FNA6b9h7lX2eMZMhv3zPn4O/00l38ho2zsXGBUsj2mHb864yR9N97VDbTrWUyDSf8Ijk1nQlLNpOeXVhavVvROZpXzMT3NpOcmu7X/om/6fXXKwZKXppm3F7L9PI7idaSu+++m8cee4wBAwYwY8YMtm7dWm37Xbt2kZ+fz5AhQwgNDTW/Fi9ezO7dvsu5zzjjDJ/jKVOmcOuttzJ48GCeeOKJCu2FACNnKd8exDXXP8H8AdcTHxJGEgpxoTHMH3A911z/BPn2IFlFXAdkZEnUO+8mujqgl31fVXVzW6NZy7czJDFWcpYCzf79J3f739CxY0cURTmhJG5VNT4nlg20XC6XT5tbb72VYcOGsWLFCr744gvmzp3LM888w1133VXpNXNLcrJWrFhB69atfW5zOHw3Ny0/XThz5kyuv/56VqxYwWeffcaMGTN4//33ufzyy2v8nETj581FyrcH8eKA63g2MRityIo1vABLsKtCO1F7ZGRJ1DufTXR1BdehvRTs3khx+g6zTXp2oSx/DUStWp3c7X9DdHQ0w4YN4+WXXyYvL6/C7ZUt72/RogUA6emlI5hbtmyp0C4+Pp477riDpUuXMnXqVN544w0A7HZj6tjj8ZhtExMTcTgc7Nu3jw4dOvh8xcfHH/d5dOrUiXvvvZcvvviCK664gkWLFh33PqJp8a4iNj9CelcQl6woVoA4WUVcJyRYEvUuI6d0iPjoV0s4svI5sr99i4x3pnL0q0WVthMB4rbbQK3iZUVVjdvrwMsvv4zH46Fv37589NFH7Ny5k19++YUXXnjBzB8qyxvAzJw5k507d7JixQqeeeYZnzaTJ0/m888/Jy0tjc2bN/Pll19y2mmnAdCmTRsUReHTTz/l0KFD5ObmEhYWxn333ce9997L22+/ze7du9m8eTMvvvgib7/9dpV9LygoYNKkSXz11Vfs3buXdevWsXHjRvOxhPAqu4pYgQp7aYKsIq4rEiyJepeZa+yKXbR/B8d+WF5y1viEnrPhI4r27/BpJwLIvfdCz54VAyZVNc7fe2+dPGy7du3YvHkzF1xwAVOnTqVr164MGTKENWvW8Oqrr1Zob7PZ+L//+z9+/fVXunfvzrx583jsscd82ng8HiZOnMhpp51GUlISnTp14pVXXgGgdevWzJo1i4ceeoiWLVsyadIkAGbPns306dOZO3eueb8VK1aQkJBQZd8tFgtHjhxhzJgxdOrUiauvvpqLLrqIWbNm1eJPSDQWSV3jeHV0byKCbebIkl4yshQRJJk1dUXR6yo7sgnJyckhIiKC7OxswsPD/d2dBu+jH/5g6n+2kpu6liMr3gTaA3mAESQ1GzGF0K6DeObK7ow64/jTF6J2FBYWkpaWRkJCAk7nSeQ85OYaq95ef93IUWrVyhhRuvfeWi8bIPyj1v5WxN+SnJrOHUs2485x4sm3YwkpwhpW+uFywejesqK4hmr6/l3jkaX9dZCYKZqmrAIjEdEWXTYJtjRm9573thMBJjTUKA/wxx/g8Rj/Tp8ugZIQtcCj6Ty09GfjoFzOktdDS3+W/eFqWY2DpdNPP5333nuvLvtSIy+//DJt27bF6XTSr18/UlJSqm3/4Ycf0qVLF5xOJ926dWPlypU+t+u6ziOPPEJcXBxBQUEMHjyYnTt31uVTaPIig43kWEerzoT1udTntvB+V+Jo1dmnnRBCCMP3u4+QlV/9B8msfBff7z5STz1qGmocLD3++OPcfvvtXHXVVWRm+meV0gcffMCUKVOYMWMGmzdvpkePHgwbNoyDBw9W2v67777juuuu45ZbbuHHH39k5MiRjBw5ktTUVLPNk08+yQsvvMCCBQvYsGEDISEhDBs2jMJCSS6uK1n5xeb3kefcQLPh9xJ53jhib3yGqPPHVtpOCCEErP/9sPm9meCtV0zoLttOnLwaB0t33nknW7du5ciRIyQmJrJ8+fLj36mWPfvss4wfP55x48aRmJjIggULCA4OZuHChZW2f/7550lKSuL+++/ntNNOY/bs2fTu3ZuXXnoJMEaV5s+fz8MPP8xll11G9+7dWbx4Mfv372fZsmX1+MyaluhQ35ozthZtCO54ljmiVFU7IYQQpYGRd6JN91S2+k1WxNWmE1oNl5CQwNq1a3n44Ye54oor6N69O7179/b5qivFxcVs2rSJwYMHm+dUVWXw4MGsX7++0vusX7/epz3AsGHDzPZpaWlkZGT4tImIiKBfv35VXhOMbQ1ycnJ8vkTNxYbXLCG0pu2EEKKpKLuNiV5krH7TiiuugpPtTmrXCa8z3Lt3L0uXLiUqKorLLrsMq7V+lioePnwYj8dDy5Ytfc63bNmyysq9GRkZlbbPyMgwb/eeq6pNZebOnSvLek9CnzZRqApUl3+oKkY7IYQQpc5q14zIYFu1eUtRwTbOaifBUm06oUjnjTfeYOrUqQwePJht27aZVXCbmmnTpjFlyhTzOCcnp0YVeoVh096j1QZKYARSm2QzSCGE8GFRFZ64oht3LNmM6nShuSyoTt/Aae4V3aQwZS2r8TRcUlISDz74IC+99BJLly6t90CpefPmWCwWDhw44HP+wIEDxMbGVnqf2NjYatt7/z2Ra4Kxz1N4eLjPl6i5mm7yKJtBCiFERUld41gwujctQo1UBW+id1yEU2os1ZEajyx5PB62bt3KKaecUpf9qZLdbqdPnz6sWbOGkSNHAqBpGmvWrDGr55bXv39/1qxZw+TJk81zq1atMrc/SEhIIDY2ljVr1tCzZ0/AGCXasGEDEyZMqMun06TVdJNH2QxSCCEql9Q1jtMnxrJ6UzYeeyGnd7LRNyFaRpTqSI2DpVWrVtVlP2pkypQp3HTTTZxxxhn07duX+fPnk5eXx7hx4wAYM2YMrVu3Zu7cuQDcc889nHfeeTzzzDOMGDGC999/nx9++IHXX38dAEVRmDx5Mo899hgdO3YkISGB6dOn06pVKzMgE7XPuxmkuZluJWQzSNHYzJw5k2XLllW6Ya8Qf4eqKHQ/JZKWLcFP4xhNRkDtDXfNNdfw9NNP88gjj9CzZ0+2bNlCcnKymaC9b98+n13Ezz77bN577z1ef/11evTowX/+8x+WLVtG165dzTYPPPAAd911F7fddhtnnnkmubm5JCcnSwn/OmRRFS7tUf0w8aU94uQTkqixsWPHoigKd9xxR4XbJk6ciKIojB07tkbX+uqrr1AUhaysrNrtZC07//zzfUbNRdPi0XQ2/n6Ur3YcZPO+TKnYXccCbte9SZMmVTnt9tVXX1U4d9VVV3HVVVdVeT1FUXj00Ud59NFHa6uL4jg8ms4nP5UEtWrJRpCab2D0yU/pPJB0mgRMosbi4+N5//33ee655wgKCgKMPczee+89Tj31VD/3ruEqLi7Gbpdq+YEkOTWdWcu388c+BU+BDUtoEfH/U5hxSaLkK9WRgBpZEo1DSlpm6RRcFXsbpWcXkpLmn0rxIjD17t2b+Ph4li5dap5bunQpp556Kr169TLPaZrG3LlzSUhIICgoyBx1BtizZw8XXHABAFFRUT4jUsnJyZxzzjlERkbSrFkzLr74Ynbv3u3Thz///JPrrruO6OhoQkJCOOOMM9iwYUOl/a1sZGjkyJE+I2CvvPIKHTt2xOl00rJlS6688krAGEn73//+x/PPP4+iKCiKwp49ewBITU3loosuIjQ0lJYtW3LjjTdy+HBpNefzzz+fSZMmMXnyZJo3b86wYcPQdZ2ZM2dy6qmn4nA4aNWqFXfffXfNf/ii3iSnpjNhyWafNAZF0UnPLmTCks0kp6ZXc2/xd0mwJOpd2VVuShUjS+XbicCzYcMG3nnnnSqDhbpw8803s2jRIvN44cKFZk6j19y5c1m8eDELFixg27Zt3HvvvYwePZr//e9/xMfH89FHHwGwY8cO0tPTef755wHIy8tjypQp/PDDD6xZswZVVbn88svRNA2A3NxczjvvPP766y8++eQTfvrpJx544AHz9hP1ww8/cPfdd/Poo4+yY8cOkpOTOffccwFjd4L+/fszfvx40tPTSU9PJz4+nqysLAYNGkSvXr344YcfSE5O5sCBA1x99dU+13777bex2+2sW7eOBQsW8NFHH/Hcc8/x2muvsXPnTpYtW0a3bt3+Vr9F3fFoOrOWby+t3F1u5k0HZi3fLlNydSDgpuFE4PNZ5aaU/qfW9TJ7HZVvJwLKgw8+yJNPPmkeP/DAA8ybN6/OH3f06NFMmzaNvXv3ArBu3Tref/99c4q+qKiIOXPmsHr1anNVbLt27fj222957bXXOO+884iONhYWxMTEEBkZaV571KhRPo+1cOFCWrRowfbt2+natSvvvfcehw4dYuPGjeY1OnTo8Lefy759+wgJCeHiiy8mLCyMNm3amCNkERER2O12goODfcqcvPTSS/Tq1Ys5c+b49DM+Pp7ffvuNTp06AdCxY0ef38+KFSuIjY1l8ODB2Gw2Tj31VPr27fu3+y7qhs+oPJSOyJd5HfWOykuNutolI0ui3vVNiCbYbgFAKfsXWGZ0KcRukdVwAWrDhg0+b8RgbFhdHyNMLVq0YMSIEbz11lssWrSIESNG0Lx5c/P2Xbt2kZ+fz5AhQwgNDTW/Fi9eXGFKrbydO3dy3XXX0a5dO8LDw2nbti1gBDUAW7ZsoVevXmagdLKGDBlCmzZtaNeuHTfeeCPvvvsu+fn51d7np59+4ssvv/R5bl26dAHweX59+vTxud9VV11FQUEB7dq1Y/z48Xz88ce43e5aeR6i9mRkF/ie8MZIynHaiZMmI0ui3nk0nQKXxzxWVN2YhtMVvP/7810ePJouCd4B6LfffqvyfL9+/er88W+++WZzEcjLL7/sc1tubi5gjKS0bt3a5zaHo/qNmy+55BLatGnDG2+8QatWrdA0ja5du1JcXAxgJpXXlKqq6OXmUVyu0krMYWFhbN68ma+++oovvviCRx55hJkzZ7Jx40afEa/yz++SSy6pdBQvLq408TckJMTntvj4eHbs2MHq1atZtWoVd955J0899RT/+9//sNlsJ/S8RN3JzCv2OdY149OmN52hqnbi5MnIkqh376zf4zvXrlTMW9J1o50IPN6pnpqer21JSUkUFxfjcrkYNmyYz22JiYk4HA727dtHhw4dfL68WxZ5V4Z5PKUB/ZEjR9ixYwcPP/wwF154IaeddhpHjx71uXb37t3ZsmULmZk1W5jQokULn1InHo+H1NRUnzZWq5XBgwfz5JNPsnXrVvbs2cPatWvNfpbtIxhJ7tu2baNt27YVnl/5AKm8oKAgLrnkEl544QW++uor1q9fz88//1yj5yLqR3RouYDe+5qpatW3EydNgiVR7/Zm+k4lmHlK5VbElW8nAkO/fv144IEHfM49+OCD9TKqBGCxWPjll1/Yvn07FovF57awsDDuu+8+7r33Xt5++212797N5s2befHFF3n77bcBaNOmDYqi8Omnn3Lo0CFyc3OJioqiWbNmvP766+zatYu1a9f67A8JcN111xEbG8vIkSNZt24dv//+Ox999BHr16+vtJ+DBg1ixYoVrFixgl9//ZUJEyb41Hb69NNPeeGFF9iyZQt79+5l8eLFaJpG586dAWjbti0bNmxgz549HD58GE3TmDhxIpmZmVx33XVs3LiR3bt38/nnnzNu3LgKgVVZb731Fm+++Sapqan8/vvvLFmyhKCgINq0afN3fgWijsSGl+Zx6nrpB0zFolfZTtQOCZZEvWsTHex7oooVcRXaiYAxb948vv/+exYvXsz333/PE088Ua+PX92ejbNnz2b69OnMnTuX0047jaSkJFasWEFCQgIArVu3ZtasWTz00EO0bNmSSZMmoaoq77//Pps2baJr167ce++9PPXUUz7XtdvtfPHFF8TExDB8+HC6devGE088USFg87r55pu56aabGDNmDOeddx7t2rUzyxYAREZGsnTpUgYNGsRpp53GggUL+L//+z9OP/10AO677z4sFguJiYm0aNGCffv20apVK9atW4fH42Ho0KF069aNyZMnExkZiapW/XIfGRnJG2+8wYABA+jevTurV69m+fLlNGsmScINSZ82UZiZCWVeL8tOw6mK0U7ULkUvP2kuTlhOTg4RERFkZ2fLpro1UOzW6DL9M7yrW11ZQWiFNqxhhVhCjLl2VYFfZ1+E3SrxfH0pLCwkLS2NhIQEqWAvqiV/K/6xfvcRrnvjewA0l4rrSCiKqmOPOebT7v/GnyWr4Wqopu/f8k4k6p3dqjJ+YIJ5XFmtpfEDEyRQEkKIMnxqz1WR3F2hnagVshpO+MW04YkAvP5NGorFSE7UPcZ//mC7hV6nyjCyEEKUVbb2nO4p+XBpqVj0VGrU1T756C78ptepUUYhSu9/9pJgqaDYI2X7hRCinL4J0cRFOFGovGyAAsRFOKVGXR2QYEn4hbdsP2B+MvKOLHn/60vZfiGEKGVRjc1yAZRyZQO8SQwzLkmU+nR1QIIl4Rdly/ab03CaYtZf0pHNdIUQorykrnG8Oro3zYONIqjesgGxEU5eHd2bpK5x1d1d/E2SsyT8wnczXaPWkq6D7lZRbFql7YQQQhgB0ynjYtm4Kxt7dD7tWjnomxAtI0p1SIIl4RfNy1WYVSwaulstWeGhVdlOCCEEuIoVup8SyemnRyLVG+qeTMMJv9DK5yJ5p+LcavXthBCiiSsuBk0zRuSPs6WhqCUSLAm/2FAuF6l8+YCq2gkhRFNXUGD863SW2S5K1CkJloSf+I4YVRUslW8nxIk6//zzmTx5sr+7UaU9e/agKApbtmzxd1dEgCgsSeWU6bf6I8GS8Iv+7Zr7HCvWyoOl8u2EqMzYsWNRFKXC165du1i6dCmzZ88+qesrisKyZcuqbSNBj6gvEizVP0nwFn5xVvtmRAbbyMp3AaBYjR3RdbdqFKosGVrOLnD5q4vipHiAb4B0IA4YCFS+oWxtSUpKYtGiRT7nWrRoUeVGtl7FxcXY7fa67JoQtUqCpfonI0vCLyyqwpyRXc1jxaKX7hFXJsl79gopTBl4lgJtgQuA60v+bVtyvu44HA5iY2N9viwWS4VpuLZt2zJ79mzGjBlDeHg4t912G8XFxUyaNIm4uDicTidt2rRh7ty5ZnuAyy+/HEVRzOPyEhKM/Q579eqFoiicf/75AGiaxqOPPsopp5yCw+GgZ8+eJCcnV/k8PB4PN998M126dGHfvn0A/Pe//6V37944nU7atWvHrFmzcLvd5n0UReFf//oXl19+OcHBwXTs2JFPPvnkb/4kRUMnwVL9k2BJ+E1USLnyAd7RJVfpSIAUpgw0S4ErgT/Lnf+r5HzdBkw19fTTT9OjRw9+/PFHpk+fzgsvvMAnn3zCv//9b3bs2MG7775rBkUbN24EYNGiRaSnp5vH5aWkpACwevVq0tPTWbrUeK7PP/88zzzzDE8//TRbt25l2LBhXHrppezcubPCNYqKirjqqqvYsmUL33zzDaeeeirffPMNY8aM4Z577mH79u289tprvPXWWzz++OM+9501axZXX301W7duZfjw4dxwww1kZsr/ncbEo+l8s+MIq7cdZOufWdjs8kGyvsg0nPCb8gUnFZsHiq3obgvgqrKdaKg8wD1UnpSvY2zIMBm4jLqYkvv0008JDQ01jy+66CI+/PDDStsOGjSIqVOnmsf79u2jY8eOnHPOOSiKQps2bczbWrRoAUBkZCSxsbFVPr63XbNmzXzaPf300zz44INce+21AMybN48vv/yS+fPn8/LLL5vtcnNzGTFiBEVFRXz55ZdEREQARhD00EMPcdNNNwHQrl07Zs+ezQMPPMCMGTPM+48dO5brrrsOgDlz5vDCCy+QkpJCUlJSdT82ESCSU9OZtXw7fx104ToagmLReH27mxmXJErV7nogwZLwm/I7Y5tJ3i5Lte1EQ/UNFUeUytKBP0ranV/rj37BBRfw6quvmschISFVtj3jjDN8jseOHcuQIUPo3LkzSUlJXHzxxQwdOvSk+5STk8P+/fsZMGCAz/kBAwbw008/+Zy77rrrOOWUU1i7di1BQUHm+Z9++ol169b5jCR5PB4KCwvJz88nODgYgO7du5u3h4SEEB4ezsGDB0/6OQj/S05NZ8KSzeiA7jHy6xSrRkZ2IROWbJZtTuqBTMMJv/HuoO2l2rxJ3hZzjziAo3nF9d018bek13K7ExMSEkKHDh3Mr7i4qt88ygdSvXv3Ji0tjdmzZ1NQUMDVV1/NlVdeWSf9rMrw4cPZunUr69ev9zmfm5vLrFmz2LJli/n1888/s3PnTpxlklZsNpvP/RRFQdM0RGDzbjrufUn0fphUrB7ZdLweSbAk/MaiKkwfcZp5rFg1nz3ivCTJO1DU9JNtw/wEHB4ezjXXXMMbb7zBBx98wEcffWTm/NhsNjweT7X3966oK9suPDycVq1asW7dOp+269atIzEx0efchAkTeOKJJ7j00kv53//+Z57v3bs3O3bs8AkEvV+qKi/hjV3ZTccBtGIjWFLtJR8ukdzO+iDTcMKvKkvy1l0WI2+pZENd7wtB//bN/NFFUWMDgVMwkrkrC26VktsH1menauTZZ58lLi6OXr16oaoqH374IbGxsURGRgLGirg1a9YwYMAAHA4HUVFRFa4RExNDUFAQycnJnHLKKTidTiIiIrj//vuZMWMG7du3p2fPnixatIgtW7bw7rvvVrjGXXfdhcfj4eKLL+azzz7jnHPO4ZFHHuHiiy/m1FNP5corr0RVVX766SdSU1N57LHH6vpHI/ysbM6mrilmLTrF5q6ynah98rFE+FWlSd5UzFuSF4JAYAGeL/m+/B4M3uP51HW9pb8jLCyMJ598kjPOOIMzzzyTPXv2sHLlSnPk5plnnmHVqlXEx8fTq1evSq9htVp54YUXeO2112jVqhWXXXYZAHfffTdTpkxh6tSpdOvWjeTkZD755BM6duxY6XUmT57MrFmzGD58ON999x3Dhg3j008/5YsvvuDMM8/krLPO4rnnnvNJQheN157Deeb3erF3Ck5DKffuLbmddUvRdV3mN05STk4OERERZGdnEx4e7u/uBJT1u49w3Rvfm8eeAhvu7CBUuwdbdOmLxP+NP0tGlupYYWEhaWlpJCQk+OTCnLilGKviyiZ7x2MESlecxHVFQ1F7fyuiOh5NZ8ATa8jIKQLAfcyBJ8+BJciFNaLAbBcX4eTbBwdhUWWjuBNV0/dvmYYTfuVN8s7ILkSnTJK3y0jyVhWIjXDSNyHavx0VJ+AKjPIA9VvBW4jGJiUt0wyUAPRi4y1bsftOwV175qkSKNWxgJmGy8zM5IYbbiA8PJzIyEhuueUWcnNzq21/11130blzZ4KCgjj11FO5++67yc7O9mlX2X5S77//fl0/HVHCoirMuMRIdFXwDi/rxmq4kiHnGZckygtBwLFglAe4ruRfCZSEOFEZ2aWjR8bCl5LkbpvvYoNTo4MQdStggqUbbriBbdu2sWrVKj799FO+/vprbrvttirb79+/n/379/P000+TmprKW2+9RXJyMrfcckuFtt7KvN6vkSNH1uEzEeUldY3j1dG9iS0pI+D91NTcGSL1Q4QQTVZmmbIp3tF2RdXNmnSVtRN1IyCm4X755ReSk5PZuHGjWUzuxRdfZPjw4Tz99NO0atWqwn26du3KRx99ZB63b9+exx9/nNGjR+N2u7FaS5/68SrzirqX1DWOIYmxpKRlsmtfMe6cIPp1iiDxNBlREkI0TX8eLTOy5K2vZKtYwiI61FHhnKhdATGytH79eiIjI32q7g4ePBhVVdmwYUONr+NN4CobKAFMnDiR5s2b07dvXxYuXMjxct6LiorIycnx+RInz6Iq9G/fjGsGxHF6qwhSfstm6aa/WL/7iNRZqkey5kMcj/yN1D2PpvPfn/4yjzVX5VNwALHhkmRf1wJiZCkjI4OYmBifc1arlejoaDIyMmp0jcOHDzN79uwKU3ePPvoogwYNIjg4mC+++II777yT3Nxc7r777iqvNXfuXGbNmnXiT0TUyNrf0nlwyV4OZruwReWjOtzERThlD6Q65q0AnZ+f77PdhhDl5efnAxWrhovak5KWSWaesUemrled3N0sxC4LYOqBX4Olhx56iHnz5lXb5pdffjnpx8nJyWHEiBEkJiYyc+ZMn9umT59uft+rVy/y8vJ46qmnqg2Wpk2bxpQpU3yuHx8ff9L9FKV7ILmKgwAbWpEV1eEmXfZAqnMWi4XIyEhzP7Hg4GAURaZBRSld18nPz+fgwYNERkZisUjifl3xKUbpsqBrCopScRrusp6tZAFMPfBrsDR16lTGjh1bbZt27doRGxtbYUNIt9tNZmbmcXONjh07RlJSEmFhYXz88cfH/STUr18/Zs+eTVFREQ5H5fPADoejytvE31d2DyTF7oYCm/lpCoya0NOW/syQxFh5cagj3v9PsgGrqI7keda9skUmtaKSUSWHi/KfX4Ykyu+hPvg1WGrRogUtWrQ4brv+/fuTlZXFpk2b6NOnDwBr165F0zT69etX5f1ycnIYNmwYDoeDTz75pEbF07Zs2UJUVJQEQ35Qdg8ktWSoWXOrxicq1ciROJrv4qW1O7lncCe/9bMxUxSFuLg4YmJicLlc/u6OaIBsNpuMKNWDvgnRxIY7ycgpRCsyPuSrDt8puDipQVdvAiJn6bTTTiMpKYnx48ezYMECXC4XkyZN4tprrzVXwv31119ceOGFLF68mL59+5KTk8PQoUPJz89nyZIlPonYLVq0wGKxsHz5cg4cOMBZZ52F0+lk1apVzJkzh/vuu8+fT7fJKjvsrFiM5bG6W0UrtmBxlr5IvP7170wa1FFGl+qQxWKRN0Qh/GjV9gwK3R50j2JuLO4NlryvfFKDrv4ERLAE8O677zJp0iQuvPBCVFVl1KhRvPDCC+btLpeLHTt2mImHmzdvNlfKdejQwedaaWlptG3bFpvNxssvv8y9996Lrut06NCBZ599lvHjx9ffExOm8nsbqXY3HrcdvcgGZYKlvGIP3/9+hAEdmtd3F4UQos55czd1KB1VsnnMEfbIYBtzr+gm+Zv1SPaGqwWyN1zt8Gg6PWZ9Tm6RkcCoFVlwHQ1BUcAWk+MzVz/pgg7cN6yzn3oqhBB1w6PpnDNvrZmS4DoajFZkxRJahDXU2PokNtzBuoculFGlWlDT9++AqLMkmgaLqjCwY+lokWL3mFuflE30NkiML4RofMrmbpZ97VMdpTmEGTlFpKRl+qV/TZUES6JBGd2vrfm9ooDqNF4gtELfVYz928kUnBCi8Xnjm93m93qx1djixKKj2ny3OCmb4ynqngRLokE5q30zIoNLAyPvpymtyHjRAIgIsnJW+2b+6J4QQtSZYrfGl78eMo+9JQPUcoUooWKOp6hbEiyJBsWiKjxxRTfz2JyK0xRzOLrIrfHZ1v3+6qIQQtSJt7/bYyYY6HrpiLp3hN0r1KFKyYB6JsGSaHCSusaxYHRvIoOsxlRcyXJZ76esQpfGpPe3MH7xRn92UwghatWnW0v3gtOLraVVu8uNLHVoESrJ3fVMgiXRIA1JjMVpKxmCLpO3VHbt5qrtB3l8xXZ/dE8IIWqVR9PZcSDXPDZHlYKKK1Ttbts8tD67JpBgSTRQKWmZZOQYCYyK3Y2iUDIV51so8c1v0yh2a5VdQgghAkZKWiaFLuO1rLopOIBRvU+p174JCZZEA+VTzbvsqrgi31Vxmg7vrN9Tn10TQohaV/Y1zzuKrlg0VLvvxrkOq8rZUpC33kmwJBqkCtW8q5iKA/hm5yGEECKQ+WycW+Cdgqs4qnTn+R0kX8kPJFgSDVLfhGjCnKVTbordba6KK19zadO+o3g0KVIphAhcR/OKUBXQPQpaycpfS7kpuMhgG5MGdajs7qKOSbAkGiSLqjB3ZJkSAoqR6AigFdh92h4r9Eg1WyFEwEpOTWfiez+ilc1VsnlQrL75mE9c0U1GlfxEgiXRYF3cszVdW5fu1WMJLgmWii3mLtxeUs1WCBGIPJrOrOXbzfpKnpIPg2Wn4FQFXrm+t2yc60cSLIkG7Z/DE83vFYtu1lzy5PuOLq3afqBe+yWEELWh7F5wmks1PwiWXQWn6RAVYq/0/qJ+SLAkGrS+CdHEhjvMY4t3Kq5covenW9NZuTW9vrsnhBAnZdX2DPN7b4qB6jByNMuS0XP/kmBJNGgWVeG6vqeax4qj6kTv6f9NlURvIUTA8Gg6y7YYWzfpWmmwZAkuqtBW9oLzLwmWRIPXtnmI+X11id5H8ool0VsIETBS0jLJzCt9PdN1UKwaqsO3tlJ0iE32gvMzCZZEg1f+E5UkegshGgPv65WugyffSDeobFTp8p6tZRWcn0mwJBq8vgnRRIeUTrlVl+gtQ9VCiEDRPNQIkLQiK7pHQVH1SgtRDk6Mre+uiXIkWBINnkVVeOyyrr7ngssMXZeUImkWYqdPm6j67p4QQpyw5NR0pv57CwBanhE0ld80VwHiIpwyBdcASLAkAsLw7q24/dwE81h1uFEsmrHhZMnw9ZG8Ys59ci3JqbIqTgjRcCWnpnPHks1k5BShFVvQXMZuBd4PgWAESgAzLkmUKbgGQIIlETCmDU/klet7E11Sb8QSaszte/LtZhmBjJwi7liyWQImIUSD5NF0Hlr6c+lxSSqBJciFYildzRsb4eTV0VKIsqGQYEkElOHd4/h+2oWEOCyoTuPFRdeUCivjHlr6s5QREEI0OC+t3UVWvpGXpHtKS6Co5RK7n76yhwRKDYgESyLgbEzLJK/Ig6KAJaRkdCnP4VOkMivfxfe7j/iph0IIUZFH01m0Lq30uGRUSbV5UG2++8Adzqu4Kk74jwRLIuCs//2w+b0aVGwUqfRULFK5+Ps99dwzIYSoWkpaJlkFJaNKmmLmW3o/9JUlK3sbFgmWRAAqTXZUlNKkSE+u7+jS59sOMHfl9vrunBBCVCoju8D83pNn5FqqVg3V6fZpFxkkRSgbGgmWRMDp376Zz7EaXISigO5R0YqsPre99nUaK7fur8/uCSFEBcmp6cxe8QtQkqvkHVUKq1hId9yAtrICroGRYEkEnLPaNSMyuEyRSrU0OVLLrTh0ff9HWyXZWwjhN8mp6UxYstnc2sSbY6naPGaBXa+oYBuTBnX0RzdFNSRYEgHHoio8cUU333MhRjE3zV1xdCmvyCPJ3kIIv/BoOrOWb8f7cU33KKXlAkJ9R5UUYO4V3WRUqQGSYEkEpKSucdw7uPTTl7FNgPGpzX3M6ZO7BPDuhj312DshhDCkpGWSnl0aFHlKRr9Vu8dnw9zoEJvUVWrAJFgSAWvSoI6EOCzmsSW00MhdcqtoBb4r4/6387BMxQkh6t3q7Rnm97pbxVPy2lR+VGn6xadLoNSASbAkApZFVRh/TjvzWFFLX4A8ub6jS3lFHlLSMuu7i0KIJiw5NZ031+0xjz3ePeDsblS7x6dtbLiUCmjIAiZYyszM5IYbbiA8PJzIyEhuueUWcnNzq73P+eefj6IoPl933HGHT5t9+/YxYsQIgoODiYmJ4f7778ftdldxRdHQ3HVhR+zW0j9jNbjY2DNOU/DkOnzafrFNtkARQtSP8tuaFP6xi9zUn3Ad2uuzAk42yw0M1uM3aRhuuOEG0tPTWbVqFS6Xi3HjxnHbbbfx3nvvVXu/8ePH8+ijj5rHwcHB5vcej4cRI0YQGxvLd999R3p6OmPGjMFmszFnzpw6ey6i9lhUhYnnd+C51b8BJXWXwgpxZwWj5TvQg4vN/ZYWfbcXu1Vl2vBEf3ZZCNEEfP/7EXNbk6NfLSJnw49AJJCF60gvos4fB4CObJYbCAJiZOmXX34hOTmZf/3rX/Tr149zzjmHF198kffff5/9+6uvoRMcHExsbKz5FR4ebt72xRdfsH37dpYsWULPnj256KKLmD17Ni+//DLFxcXVXFU0JJMGdfApJWBxulFtHnS9NJnSS+ouCSHqw/qSFbhF+3eQs2EVRqCkA3+Rs+EjivbvAOCirrGSqxQAAiJYWr9+PZGRkZxxxhnmucGDB6OqKhs2bKj2vu+++y7Nmzena9euTJs2jfz8fJ/rduvWjZYtW5rnhg0bRk5ODtu2bavymkVFReTk5Ph8Cf+ptJRAyTC3p8CG5vL9M//nMtlkVwhR14zXmOIj+4H4knMHAaMmnCvzLwDatwip/66JExYQwVJGRgYxMTE+56xWK9HR0WRkZFRxL7j++utZsmQJX375JdOmTeOdd95h9OjRPtctGygB5nF11507dy4RERHmV3x8fJVtRf1I6hrHLQPamseq3YPqNIbAPceCfNoezXdzz/s/1mf3hBBNTP92zQGwBHUEHIALKM2btEW39mknGja/BksPPfRQhQTs8l+//vrr377+bbfdxrBhw+jWrRs33HADixcv5uOPP2b37t0n1e9p06aRnZ1tfv3xxx8ndT1ROwYnxvocW0NLqnoXWyoUqvx0a7rsGyeEqBMeTQcFgixWrGGJhHS9EPgT0AAI73cljladiQy2cVa57ZtEw+TXBO+pU6cyduzYatu0a9eO2NhYDh486HPe7XaTmZlJbGxsFfesqF+/fgDs2rWL9u3bExsbS0pKik+bAwcOAFR7XYfDgcPhqPJ24R99E6KJDrGbWwooVg1LcDGefDvunCBszY+hlMmhfOObNKYO7eKzmk4IIU5Gcmo6s5ZvJz27ENfRYHQdIvoPJ6xXLK7Mv7BFt8bRqjMAT0i17oDh12CpRYsWtGjR4rjt+vfvT1ZWFps2baJPnz4ArF27Fk3TzACoJrZs2QJAXFyced3HH3+cgwcPmtN8q1atIjw8nMREWTEVaCyqwmOXdeXO9zaXngsrRCuyGVsMHHNiDS9dsqvp8M76PdwysF1llxNCiBPi3QNOB7QiqzmibQ0vQInubAZJseEOZl4qRSgDSUB8pD7ttNNISkpi/PjxpKSksG7dOiZNmsS1115Lq1atAPjrr7/o0qWLOVK0e/duZs+ezaZNm9izZw+ffPIJY8aM4dxzz6V79+4ADB06lMTERG688UZ++uknPv/8cx5++GEmTpwoI0cBanj3OG4/N8E8VhTjhQrAk29HK7b4tN+bmY8QQpyssnvA6Tq4c4yVuJbgYhSrMf0WGWzj3Vv6se6hCyVQCjABESyBsaqtS5cuXHjhhQwfPpxzzjmH119/3bzd5XKxY8cOc7Wb3W5n9erVDB06lC5dujB16lRGjRrF8uXLzftYLBY+/fRTLBYL/fv3Z/To0YwZM8anLpMIPNOGJzKqd2vzWHW4zWRvd06QT2XvNtHB5e8uhBAnrOwecJ48B7pHRVF1n21NsvJdqKoiU28BSNH18luOihOVk5NDREQE2dnZPnWchP8UuzW6TP8Mb4UAXVNwHQ5F1xQsoUVYQ4tQFfh19kWSsySEOGn/3fIX97y/Bd2t4joSiq6DNaIAS5DLp93z1/bksp6tq7iKqG81ff+WdwnRKNmtKuMHlpmOU/XS2ku5DnS3cbsESkKI2hATZuxH6c42Rq9Vu7tCoORtJwKPvFOIRmva8ERuPzcB74i3JchlTMkpMKpTR9n2RAhx0jyazvrdR8jILiBcD0V3WYxcyYgCn3ayB1xgC5i94YT4O6YNT2Tq0C68s34PezPzaR0WTK+wtlhUlUOHoAaLMYUQolJlywRoLmP6DUpWv1lKM1y8GUqyB1zgkmBJNHp2q+pTHuDgQfjjD/jzT4iIALvdj50TQgSksmUCdB3cWcZiEdXpqjD9FhvhZMYlibICLoBJsCSanBYt4OhRyM2F33+Hzp3xKVYphBDVKVsmAMBzzGmufvPWcosOsTH94tOJDTem3mREKbBJzpJochQF2rYFiwXy8mD/fn/3SAgRSMqWCdCKLHjyjeFpa0QBimqEUJl5LmLDnfRv30wCpUZARpZEk+RwQJs2xshSRgYEh+j8eiSTg8cKiQmTT4JCiKodPGYESroG7hxj+s27gKSydiLwSbAkmqyoKGjeHD75/hDj3v6dbMcRMykzTnIMhBBV8C7/9xwLQvcoKBYNS1hBle1E4JNpONGkbctO54lV2zmUU4w7O8g8n55dyB1LNpOcmu7H3gkhGqK+CdE0t4WiFdgA7/Rb6e1SJqDxkWBJNFkeTWf2iu1YIvJRFNCKrXhyffcEfGjpz3g0KXIvRFPmraX03y1/sX73EfLzYWx3o06bNaQI1e4x20qZgMZJpuFEk+VN0lRtYAkrwJ0ThDvXgWJ3my9+WfkuXlq7i3sGd/Rzb4UQ/pCcms7MT7aRkVMEGFsnRRRFMf7sDjx2dWfe+Oln0rNL20uZgMZJgiXRZJVNvrQEu9CKrWiFNtzZwdiaHTOH1d/4ZjcTzm8vW6MI0cQkp6Zzx5LN5rFRTymIQ8Vu5n6xnTfu7sS3SYNISZPFIY2dvPqLJqt88qVRdVdD9yi4s4PxbjGdW+ThrLmrJX9JiCbEo+lM+fdPvudyHWjFVmM7k8h8/vnfnwHo374Zl/VsLWUCGjEJlkST1Tchmsggm3msqMYLoKKAVmTFc6w0mMrMczFBEr6FaDJeWPMb+cWluUhakRVPnpHTaAkvQLVpZOW7+H73EX91UdQjCZZEk2VRFcYNaOtzTrVpWCLyAfDk2/Hk23xun7V8uyR8C9HIeTSdf32TZh7rbtXczsQSXOyzncn63w/Xe/9E/ZNgSTRpkwZ1JDLYNyCyON1YQo1kTndOEFqRBQAdo6TAW+vSJGASohH7/vcj5JWMKuk6uLKMaXnV5sESVr7QpEy7NQUSLIkmzaIqPHFFtwovd9bQIlSn8enRnRWC7i79rzJ7xS+c+fhqVm6VKTkhGpvk1HQmvmskdXs3yNXdJfu+lUzTl9W/fTM/9FLUN1kNJ5q8pK5xvDq6N//4OJXMvGLzvDWiALdHRXNZsB60cMfv7zF662fE5GZyMDSa975IYvvke7hv1Jl+7L0Qoras3LqfO9/70Tz2HHOiFRlvk9bIfLPCv1eow8pZ7SRYagoUXddlPuEk5eTkEBERQXZ2NuHh4f7ujvibit0aZ81dTWZeaT6C7lGwHLAyd8XL9Mj8hSx2shPoBJyhKGyPacf+ZZ8x7CypwyREIPvvj39xzwdbzGNPrgN3SZFaa2Q+Fqe7wn1eub43w7tLPaVAVtP3b5mGE6KE3aoy53JjSs470q5YdMbvep/2mX8wlzD6E88Y4CzgH7pO4sHf2f2P2ZLDJEQAG794o2+gVGArDZTCCisNlG4/N0ECpSZEgiUhyvBOycVGlJYNGJv6CVn8zmIAWgAxADwJbNR1Lv9hJS+u2emH3gohTtbsT1JZtf2geawVWc19Ii3BxVhCin3ahzgsvHJ9L6YNT6zXfgr/kmBJiHKSusbx7YODmD7iNABicjNJJxv4s6TFKUBzAHaW3D5/zU7mrtzuj+4KIf6m2Z9u483v9prHWrHFLBGgOl1Yw8uvfIPXR5/B8O6t6q2PomGQYEmISlhUhbEDEogOsXMwNJpOABwEMkpanApE0xE4GGrsLP7a12ms3LrfH90VQpyguSu38+a3e8xjby0lXQfV7sYaUVDhPnERTs6S1W9NkgRLQlTBoio8dllX3uuRxBmKwgMA7McImuAm2tKBKN7rkWTe5+H/pkr+khANXLFb442yRSc1BdfRYHRNQbVqlZYIAJhxSaJsZ9JESbAkRDWGd49Dn3wP22PaMUdRWA8s5k+Wcpg7UVgTPZDXu19pts/Mc0nRSiEauHfW78H7X1TXFFyZIegeFcWiYY3KMzfRLuuV63uR1FUSupsqCZaEOI77Rp3J16//m/kDrqdNWDOuVxT6heax7IyBPJR0Fzl5zcwq32AUrTxn3lrZR06IBsaj6azffYSvfjsElAmUSopO2qIq1lICeP6anpKn1MRJnaVaIHWWGj+PpnPm46t9ilZ6q/tqRSW7kEflodqNLRK8A/Wvju4tn0aFaABWbt3Pw/9NNeuo6R4F19EygVJ0HopVq3C/IYkxvDFGCs82VlJnSYha5M1fKktRjGJ1qt1tBE5HQ9Bcxn8pveTr/v/8REGZncuFEPVv7srt3Pnej76BUubxA6Vbzm4jgZIAJFgSosaGd4/j9nMTfM4ZI0r5qDaPETBlhqIVl07JHSv0kDgjWcoKCOEnK7em89rXZZK5PWVzlKoJlM5py/RLu1Y4L5omCZaEOAHThifyyvW9iA6xmefMKThvwHQ0xNxPCozpute+TuPxFRIwCVGfPJrOw/9NNY8rBEpRFQMlVTGqc0+/+PT67q5owGQjXSFO0PDurRjWNY631qUxe8UvACgqWKPzcB8NRiu24joajDWiAEtQ6T5zb3yTRo/WEVzcs7W/ui5Ek5KSlmnmGVYcUcr1SeYe2LE553dqwY3922K3yjiC8BUwfxGZmZnccMMNhIeHExkZyS233EJubm6V7ffs2YOiKJV+ffjhh2a7ym5///336+MpiQDmLVoZF+Es3UfOOyXnNAIkd3YQnny7z/0mvb9FClcKUU8OHjMqcOtuFVdmqFkeoHygBHDn+R24ZWA7CZREpQLmr+KGG25g27ZtrFq1ik8//ZSvv/6a2267rcr28fHxpKen+3zNmjWL0NBQLrroIp+2ixYt8mk3cuTIOn42ojGwqAozLvHdH0pRwBZZgCXY+DTrznGaG3J6TXzvR+av+k1qMQlRx2LCnGjFlpIRJaUkUMqrEChFh9jomxDtp16KQBAQpQN++eUXEhMT2bhxI2eccQYAycnJDB8+nD///JNWrWpW/6JXr1707t2bN9980zynKAoff/zxSQVIUjqgaUtOTef+//zEsULfVW/uYw48eUagZAkurrDPVGSwjSeu6CalBYSoI4eP6AyasZFDuUVGZe6oioESGAUnpY5S09SoSgesX7+eyMhIM1ACGDx4MKqqsmHDhhpdY9OmTWzZsoVbbrmlwm0TJ06kefPm9O3bl4ULF3K8+LGoqIicnByfL9F0JXWNI+UfQypsj2ANK8IaZgRInnw7rqwgyv5pZeW7uGPJZileKUQdOHAA9u5RGD8wAYvDjbVZxak3MJK5JVASxxMQwVJGRgYxMTE+56xWK9HR0WRkZFRxL19vvvkmp512GmeffbbP+UcffZR///vfrFq1ilGjRnHnnXfy4osvVnutuXPnEhERYX7Fx8ef2BMSjU6Q3cJtAxMqnLeEFJsbcmqFNtwl+0+VNeWDn3jj698pdldcviyEqJq3Ivd/t/zF+t1H8Gg6ug779sGffxptRp7dgjcmdaFVpNPnvs1C7LxyfW+mDU+s5MpC+PLrNNxDDz3EvHnzqm3zyy+/sHTpUt5++2127Njhc1tMTAyzZs1iwoQJ1V6joKCAuLg4pk+fztSpU6tt+8gjj7Bo0SL++OOPKtsUFRVRVFRkHufk5BAfHy/TcILHV2z32aDTSyuymjuaKxZjo07VVnHJ8viBCfLiLUQNJKemM2v5dtKzS6e3Y8Oc3NarGz1aGh+u4+PB+znbo+mkpGVy8FghMWFO+iZEy6a4osbTcH4tHTB16lTGjh1bbZt27doRGxvLwYMHfc673W4yMzOJjY097uP85z//IT8/nzFjxhy3bb9+/Zg9ezZFRUU4HI5K2zgcjipvE03bP0ck0qN1BJPe3+JzXnW4sUbn4s4yli67M0OxRuSjOt1mG62kHhMgAZMQ1UhOTWfCks2U/aSvexT+SLPy8M4d/GOEwughLYiMLL3doir0b9+svrsqGgm/BkstWrSgRYsWx23Xv39/srKy2LRpE3369AFg7dq1aJpGv379jnv/N998k0svvbRGj7VlyxaioqIkGBJ/28U9W6OqCpP+70fKLnhTbRq2ZrnGfnLFFlxZwVhCi7CGFvnc/41v0pg6tIssYRaiEh5NZ9by7T6BkuZSSz6IKKiqzuLtqUwYdT6luzQKcXIC4tX4tNNOIykpifHjx5OSksK6deuYNGkS1157rbkS7q+//qJLly6kpKT43HfXrl18/fXX3HrrrRWuu3z5cv71r3+RmprKrl27ePXVV5kzZw533XVXvTwv0XgN796Kl67rXeG8oupYo/LM0gKeXEeFxG9Nh3fW76mnngoRWFLSMn2m3jz5dlxHQs3SANboPA4W5JOSlunHXorGJmAqeL/77rtMmjSJCy+8EFVVGTVqFC+88IJ5u8vlYseOHeTn5/vcb+HChZxyyikMHTq0wjVtNhsvv/wy9957L7qu06FDB5599lnGjx9f589HNH7Du8exQO3NQ0t/Jiu/tJK3ooA1vBDF6sGdE4RWaMPltmCLzDe3XtibmV/VZYVocsrmG+08YBQj1nWj8KtWaGw9pDrcWCPyUUqGALwFKYWoDQFRZ6mhkzpLojoeTeeltTtZtG4PWQUun9u0YouR+K0pxqhTRD6qw8P0EacxdkCCJKSKJq+yRG7dreI6GozuMSIja1ghlpBin/v93/izJEdJHFdAJHgL0RRYVIV7Bndi0qCOfLfzMGMWpZj5FqrdY+QxHQ1Bc6u4joZgCy0iJtTJOfPW+rxBxEU4mXFJohSxFE3Gyq3p3PneZp9zngIbnhxj6lpRdWNlqb20IKwCxEY4pSK3qFUBkbMkRGNgURUGdm7Bbef61mNSLDrWZrnmprt9WsRxx8s72X/E95NyRnYhE6SIpWgiVm7dz6T/Kw2UvNNu7mwjUFLtbmzNcysESgAzLkmUUVhRqyRYEqKeTRueyO3nJlD2tVxRwB5ZwC0XtWD34VxjlOlIKJ58m9nGOxo1a/l22VdONEoeTWfdzsNMWPIDd75XuppUd6u4j4TiKTD+P1hCi7BG5aOovv8PYiOcvDq6t4y+ilon03BC+MG04YlMHdqFd9bvYW9mPm2ig7mxf1s27T3KOz/8jlpklBdw5wShFdmwRhSgqDo6kJ5dSEpapuRjiEYlOTW9wmIIMFa7eY45S6fdIgpQHaX1ySZd0J6OLcMkr0/UKQmWhPATu1XlloHtfM4dPFaIYtGxRefhybPjPuZEK7LiOhxqJn8DZGQXsH73EUn+FgHPuwDiudU7fc7rbtX4sFBsAUC1ebBG5lfY321AhxbywUHUOQmWhGhAYsJK96+yhBSj2N3GajmPkfxtCS7GElbI7BW/kJlXmtMkyd8iEK3c+icfb3mfINtBzmoXRUra6Wi6xXc0SQFLaMXVbmD83Usit6gPEiwJ0YD0TYgmLsJJRnYhOiVVv5vn4jnmNN5A8u1oRVYOuwpQ7aX3S88u5I4lm7l3cEcmDeooo0yiQfNoOou/nMOV3eYwfExpTbHDf0Ry75KHWJ1hbHiu2jzGFLS18k2mJZFb1BdJ8BaiAbGoCjMuMfaF874FeItY2iKNhFbdo+LKDDFWBWm+bxTPrd7JgCfWyoo50SB5NJ3nV+/koSUPMvaChwltXhooHTzYgn0H23LP4H9zftsfsIYVYmuWV2mgpCrwyvWSyC3qjxSlrAVSlFLUtsoK8UWH2DhyzIUn1xhlAiPh1RJWaJYd8FJAVgWJBsWbwJ1TUMhP/9/evQdHUeV7AP92zzMPkhDzmEQCJLwRJIgSA65BiRUWrgvodRdkFVgU5S6WXNFdvIoRFwt1rd1a9iKgpeAWvnbroqwLiwsRpFZDQEgQElCBCAaYIAnJhDxmMt3n/tGZTiYzGRJMZvL4fqpSMD3dw5nOMP2tc07/zn/PRWScVm3b6TTjzJlBqKnpBwCIjKhBbPgPyFj/NlRh8Ptar90/HtNvTA5m86mXYlFKoh5s2pgk3DXa5lXB2+5owH9/UARjVANkayPcjjBtEmx1GNQ6s89wxaqPS3DXaBuHKSjkdh67gEe3aDWTbk0rRr+EOiiKDPs5G8rLEyGEBFlWMWBAGeLjLwEAJqYWY//pG71eh3PzKFQYloi6KYMsed3lk3+qQv+7p/K3WmeGcsUKtdEA16VIGCKcMEQ6AYklBqh7UFSBVR+X6I8T+l1GRUUszp27Ho2NWt2kqCgHBg48C4vF5bVfS5yPR6HEsETUQ7Se/C1J2h1znl4m1WmEUmuB2mCCsV8DZKubi4lS0LVc9DahnxWqKvThZNVlwMlvhuK74YMBABaLEwMGlCEmptrndS7W9AcA9A83Yc09Y9mbRCHFsETUQ3gmfy/Z4r1WlmQQMPWvg9pg1IbmFBmNVeGQTQoiZWsbr0bU+fzNtYsJM0EoklYzrMGEI5dHoKHajCGjTiPRdhFSq44ioQI1P4Sjf8SdeOehIbg17Tr2JlHI8W44oh5k2pgkrP/lTbBFWXyek61umOJqYIhwQpKAWEs4+jljcfIkUF8fgsZSn6CoAvmnKvDCx8V4dMthr6AkBHDpBxmNl/pBbdCG3CSrgndP3Y7ExIvNa/h49m+acrfndC7Wz8vA5KFxDErULfBuuE7Au+Eo2LSqxyfxx93f+DwnARCKhFV33YyxcQnw/A+/7jogORkwm30OIbom/nqSAC0kqfVmKLUWCEULO7JJgSGqHrJJS0Q/G7EXL854Df0SmssH1JSH42TVyxg/Ymnw3gT1ae29fjMsdQKGJQoVfxerlncMNTQA588Dl5vmykoSkJAA2GyAsdUgfOu5JlxChfzxfE52ldjx1uffeT0nBLSbDmoteg0wySC0CtytylsAgCwpmJhajJT+1chIG4PZ4+fAIHN2CAUPw1IQMSxRKLUn5NTWAufOATU12mODAUhMBOLjtdDUVl2n1TPHsJ4N6Z+x3SV2fFh0DpW13sHHb0iSBQyRTshhLn1eUkyYCVX1zcfGhJmwcPJg3uVGIcOwFEQMS9RTOBxaaKprGvmQZeBYRTlWfnIIMPj/Kpg6Mh4P/WQIe5r6qLaG2oAAPUkR3iHJ452HMiBLEnsvqdtgUUoi8hEVpf1UVgJ2O3ClVuCVj87AeaUfZGujdpEzeS8vkXfiB+Sd+AERFgOyhsVhXsZg3DqEdyj1BTuPXcCSLYdbz8PucEiSANiirbyzjXoshiWiPig2VvvZXXQZla5aAEaoDSaoDSbIZkW76FncXsfUOhXsOFaOHcfKERNuwkusfdOrtB7OnTCoP1Z9XOIVlIRb1hZzrjfrNw5oIakBclijT0gCmtc45KK31JMxLBH1YbWohym2DmqjrBe0VF0GqK5wSEZVC01W34tgVV0jHt1yGBu4/lyv4H/OmhmVtS4IAQinEUqdBaqrea02ydD0+WgjJHnYuEQJ9QIMS0R9WEI/rWilbFIhx9RDKA1aaKo36+vOSTVWyNZGyGEunyG65/9ezPXneqCWvUjfXarFH3d/67NPRU0j1DoLlHqzfvs/AMgWNwzhLp+ex9YWTR6M7NE2zkuiXoFhiagPm5gai9gIk353k2QQMEY1QEQ2aBfKOjOEKkGpM0OpM0M2qpDDXZCtLkgyYHc4uf5cDxNowjagLUmi1Jn1IpKAdmebHOaCIdwFqY0bATy42C31RgxLRH2YQZaweuYY/Ne7hV7bJRnabd8RTgiXEUq9Np9JdctQHVbAofU2GcIa21x/TlEF9p+qQP7pSwC0RYE5wTc42ion0eaEbbes/46F0rywg2xSmsJx4KE2gD1J1LsxLBH1cdNvTMYjZVXYuK/U5zlJAiSLG7LFDaE2QK03acMyblmfEF5zPgLnE7QJ49ampeh2HruAFVuPoqquuabO/+45iegwI341ORWD4yJ463gXaatQ6coZo/C77cf1oOT5HSoNJgh3c0CSJGjDruG+d0b6w54k6gtYZ6kTsM4S9QY7vrqAZ7cdQ2Wt66r7qo0y1Hoz+ssReHN+hh54rFag0F6O/9leCNmsXPV1eKH98doz/0iCtgybUCQ95KqNBq99ZItbC0l+epFaDtUCwHURZsxMT8Zd7EmiHo5FKYOIYYl6i5aVmj/48ntccQYOPK/dfxNuHZCEigqtOrhbEVi0+QAu1bq0eS5NF2DJ7A54W/n6X96Eu0bbuNzKVXh+P3ZHAyqvOFF2uQ7bjpz3qajdktooQ7iMUJ0mr7vZAEA2K5CtLshWNyTZ91LgqY/02VN34NCZy/zdUK/DsBREDEvUG3kW69247xTqXN6hyV+dJUUBdh+pxK9eL4JwmtDym0UbzmvUwpPF+8IsNb2exSjD7nDq21v2OvXFdev0YFRdj8paF8qq6rGt6PxVe/6EKkF1GSCcJqhOo1400kM2Kc09SAEma7cMsuz5o96KYSmIGJaoN1NUgf2nK5B/qgKAQGZaXJsVvLcVncPj7xdptXlcRqhOrdhl6wu2ZFQhm92QzG7IJsXvRdtzxOLbU/H3Ixd81q2bnX59j59Q3DIExkVYAAm4dMWJ7y7V4r0DZ73CY1uEAESjQQtGLqPP8JokAZLJ3dzLd5W72Tw4REp9AcNSEDEsEWnyT1Vg7hv7fbarLu1irjq9JxN7SAYVsllpDk/Gq08s9vBc1O8abfN79x2A5kASaQEEcKnW2WU9VG0FIE9VbM9wVkcCUUtCkSDcBq33qNEA0WhE629xTxiVLW6/Q6CeOUwtHwPAsuzhGBwX3md674gYloKIYYlIo6gCk1/KCxgAhCpBuAxQXU09IX7Dk9B6Q4wqJJMCyei/9wlovvCHmw0+w4URZgNMRtnrrryWbFEWPPcfo9E/wqLPA4qNMMMWHaaHhdbDYbGRFtiivMOEp/dty/4z2PfND6h1+Z/rJUuA2oFvXKFCD0SqW9aCkeIbYCRZaEHT4tZ67NroqbNFW7Fyxmj8brvv3XLsRaK+qNeFpRdffBHbt29HUVERzGYzqqqqrnqMEAK5ubl44403UFVVhcmTJ2P9+vUYNmyYvk9lZSUee+wxfPzxx5BlGffeey/+9Kc/ITIyst1tY1giarbz2AU8uuVwu/fXAoFR6ynxM4zkIUnQQlNTz5NkbApRvlkrIOf5r9FYeQ6m2OthSR7R5n5J0Vb8bFySzxBgy+dz7x4NAD5lEjpKqIBQZAi3oelPWQtJiv83p/fEmRRIJrd2PgJ0ArWef9QX54AR+dPrwlJubi5iYmJQVlaGN998s11h6eWXX8aaNWvw9ttvIzU1FStXrsTRo0dRUlICa1NBmJ/+9Ke4cOECNm7ciMbGRixcuBC33HIL3n333Xa3jWGJyJu/Okvtpc13atGb4jb4HbrzkAwCkkEFZBWSQW31WHhNJr+8dxMcBf+nP47KuBf9pyzscBs7SggAqqT1qjWFInhCkSL7zOlqybuXza0FpA4GRPYcEfnX68KSx+bNm7Fs2bKrhiUhBJKTk7F8+XI8+eSTAIDq6mokJiZi8+bNmDNnDo4fP47Ro0fj4MGDuPnmmwEAO3fuxPTp01FWVobk5OR2tYlhichX6wreRlnC+we/h93hPfxT36iguq7Rp6p0S0JoRRQ9wUn70+B3SKo1SQIgq2isOIVL234HQAGg6n8m3JcLc9LQplAlAAleAUv/hhQt/i0B6P01AhBC0sMQ1Kbw0/JxO75lJVkLeZKxKfRdZfgx4GuB84+I2qO91+9eW8G7tLQUdrsd2dnZ+rbo6GhkZGQgPz8fc+bMQX5+PmJiYvSgBADZ2dmQZRkFBQWYPXu239d2Op1wOpvnZDgcjq57I0Q9lEGWMHlYHCYPi9O3PTZ1mM/wz64SO5ZsOewz6bgl7Y4uFWhVUVqo0Ieu0NRD4/V3VdKCiiKjsaIaQKzPazsvOCGHh3Xa+w6kZSCCoWko0dAUjjrYW9QW9iIRdb5eG5bsdjsAIDEx0Wt7YmKi/pzdbkdCQoLX80ajEbGxsfo+/qxZswarVq3q5BYT9X4GWfJZdHfamCSs/+VNfpfo+Nm4JLy+r7TtECUDklmB1kvkyxOUhCJBTbYAKANgACA3/RhgiovSqo0LNA2Hab1C2j/QslgUoMc5qcUfktB+ZG3IT5KFNgQoN2+DrO1ztfXVrhUrahN1rZCGpRUrVuDll18OuM/x48cxcuTIILWofZ5++mk88cQT+mOHw4GUlJQQtoioZ5s2JqnNCt7jB/b3CVLtJUkAjCokIxCWOghRGT9pNWfpPxExwgagtvPeTBeLjTBh5rjrMaB/mM+de0TUNUIalpYvX44FCxYE3CctLe2aXttmswEAysvLkZTU3B1dXl6O9PR0fZ+LFy96Hed2u1FZWakf74/FYoHFYrmmdhGRf/56nQDvILWrxI6PWlWxjgk3tXsief8pCxE+fFK77oYLtaRoK+bcMhADY8PaLFlARMER0rAUHx+P+Pj4Lnnt1NRU2Gw25OXl6eHI4XCgoKAAS5YsAQBkZmaiqqoKhw4dwoQJEwAAn376KVRVRUZGRpe0i4g6zhOkModch2dmjPY778nf3XcRFgNMBu86S5bkESELSa3rLHkC0eC4cJ8ClgxFRN1Hj5mzdPbsWVRWVuLs2bNQFAVFRUUAgKFDh+o1kUaOHIk1a9Zg9uzZkCQJy5Ytw+rVqzFs2DC9dEBycjJmzZoFABg1ahSmTZuGhx9+GBs2bEBjYyOWLl2KOXPmtPtOOCIKrrbmPV2tgvfuEju2Fp7D5RbBKSbcBAB+e6Z+bJ2lcLMBD/8kFRNTr/NbwZuBiKjn6DGlAxYsWIC3337bZ/uePXswZcoUAIAkSdi0aZM+tOcpSvn666+jqqoKt912G1577TUMHz5cP76yshJLly71Kkq5du1aFqUk6oX8FWMEtDDVGRW827N+HhF1H722zlJ3xLBERETU87T3+t1JlT2IiIiIeieGJSIiIqIAGJaIiIiIAmBYIiIiIgqAYYmIiIgoAIYlIiIiogAYloiIiIgCYFgiIiIiCoBhiYiIiCiAHrM2XHfmKYLucDhC3BIiIiJqL891+2qLmTAsdYKamhoAQEpKSohbQkRERB1VU1OD6OjoNp/n2nCdQFVVnD9/Hv369YMkceHMjnI4HEhJScH333/PtfU6Ac9n5+L57Fw8n52L5/PHEUKgpqYGycnJkOW2ZyaxZ6kTyLKMAQMGhLoZPV5UVBT/s3cins/OxfPZuXg+OxfP57UL1KPkwQneRERERAEwLBEREREFwLBEIWexWJCbmwuLxRLqpvQKPJ+di+ezc/F8di6ez+DgBG8iIiKiANizRERERBQAwxIRERFRAAxLRERERAEwLBEREREFwLBEQffiiy9i0qRJCA8PR0xMTLuOEULgueeeQ1JSEsLCwpCdnY1vv/22axvaQ1RWVmLevHmIiopCTEwMFi1ahCtXrgQ8ZsqUKZAkyevn0UcfDVKLu59169Zh8ODBsFqtyMjIwIEDBwLu/7e//Q0jR46E1WrF2LFjsWPHjiC1tGfoyPncvHmzz2fRarUGsbXd1759+3D33XcjOTkZkiTho48+uuoxe/fuxU033QSLxYKhQ4di8+bNXd7OvoBhiYLO5XLhvvvuw5IlS9p9zCuvvIK1a9diw4YNKCgoQEREBHJyctDQ0NCFLe0Z5s2bh+LiYuzatQv/+Mc/sG/fPixevPiqxz388MO4cOGC/vPKK68EobXdzwcffIAnnngCubm5OHz4MMaNG4ecnBxcvHjR7/5ffPEF5s6di0WLFqGwsBCzZs3CrFmzcOzYsSC3vHvq6PkEtOrTLT+LZ86cCWKLu6/a2lqMGzcO69ata9f+paWlmDFjBu644w4UFRVh2bJleOihh/DJJ590cUv7AEEUIps2bRLR0dFX3U9VVWGz2cTvf/97fVtVVZWwWCzivffe68IWdn8lJSUCgDh48KC+7Z///KeQJEmcO3euzeOysrLE448/HoQWdn8TJ04Uv/71r/XHiqKI5ORksWbNGr/7//znPxczZszw2paRkSEeeeSRLm1nT9HR89ne74G+DoD48MMPA+7zm9/8Rtxwww1e237xi1+InJycLmxZ38CeJer2SktLYbfbkZ2drW+Ljo5GRkYG8vPzQ9iy0MvPz0dMTAxuvvlmfVt2djZkWUZBQUHAY9955x3ExcVhzJgxePrpp1FXV9fVze12XC4XDh065PXZkmUZ2dnZbX628vPzvfYHgJycnD7/WQSu7XwCwJUrVzBo0CCkpKRg5syZKC4uDkZzex1+NrsOF9Klbs9utwMAEhMTvbYnJibqz/VVdrsdCQkJXtuMRiNiY2MDnpv7778fgwYNQnJyMr766iv89re/xddff42tW7d2dZO7lUuXLkFRFL+frRMnTvg9xm6387PYhms5nyNGjMBbb72FG2+8EdXV1Xj11VcxadIkFBcXc4HyDmrrs+lwOFBfX4+wsLAQtaznY88SdYoVK1b4TNJs/dPWlyX56urzuXjxYuTk5GDs2LGYN28e/vKXv+DDDz/EqVOnOvFdEF1dZmYmHnzwQaSnpyMrKwtbt25FfHw8Nm7cGOqmEenYs0SdYvny5ViwYEHAfdLS0q7ptW02GwCgvLwcSUlJ+vby8nKkp6df02t2d+09nzabzWfirNvtRmVlpX7e2iMjIwMAcPLkSQwZMqTD7e2p4uLiYDAYUF5e7rW9vLy8zfNns9k6tH9fci3nszWTyYTx48fj5MmTXdHEXq2tz2ZUVBR7lX4khiXqFPHx8YiPj++S105NTYXNZkNeXp4ejhwOBwoKCjp0R11P0t7zmZmZiaqqKhw6dAgTJkwAAHz66adQVVUPQO1RVFQEAF5htC8wm82YMGEC8vLyMGvWLACAqqrIy8vD0qVL/R6TmZmJvLw8LFu2TN+2a9cuZGZmBqHF3du1nM/WFEXB0aNHMX369C5sae+UmZnpU8aCn81OEuoZ5tT3nDlzRhQWFopVq1aJyMhIUVhYKAoLC0VNTY2+z4gRI8TWrVv1xy+99JKIiYkR27ZtE1999ZWYOXOmSE1NFfX19aF4C93KtGnTxPjx40VBQYH497//LYYNGybmzp2rP19WViZGjBghCgoKhBBCnDx5Urzwwgviyy+/FKWlpWLbtm0iLS1N3H777aF6CyH1/vvvC4vFIjZv3ixKSkrE4sWLRUxMjLDb7UIIIR544AGxYsUKff/PP/9cGI1G8eqrr4rjx4+L3NxcYTKZxNGjR0P1FrqVjp7PVatWiU8++UScOnVKHDp0SMyZM0dYrVZRXFwcqrfQbdTU1OjfjwDEH/7wB1FYWCjOnDkjhBBixYoV4oEHHtD3P336tAgPDxdPPfWUOH78uFi3bp0wGAxi586doXoLvQbDEgXd/PnzBQCfnz179uj7ABCbNm3SH6uqKlauXCkSExOFxWIRU6dOFV9//XXwG98NVVRUiLlz54rIyEgRFRUlFi5c6BU8S0tLvc7v2bNnxe233y5iY2OFxWIRQ4cOFU899ZSorq4O0TsIvT//+c9i4MCBwmw2i4kTJ4r9+/frz2VlZYn58+d77f/Xv/5VDB8+XJjNZnHDDTeI7du3B7nF3VtHzueyZcv0fRMTE8X06dPF4cOHQ9Dq7mfPnj1+vys952/+/PkiKyvL55j09HRhNptFWlqa1/coXTtJCCFC0qVFRERE1APwbjgiIiKiABiWiIiIiAJgWCIiIiIKgGGJiIiIKACGJSIiIqIAGJaIiIiIAmBYIiIiIgqAYYmIiIgoAIYlIqIWFEXBpEmTcM8993htr66uRkpKCp555pkQtYyIQoUVvImIWvnmm2+Qnp6ON954A/PmzQMAPPjggzhy5AgOHjwIs9kc4hYSUTAxLBER+bF27Vo8//zzKC4uxoEDB3Dffffh4MGDGDduXKibRkRBxrBEROSHEAJ33nknDAYDjh49isceewzPPvtsqJtFRCHAsERE1IYTJ05g1KhRGDt2LA4fPgyj0RjqJhFRCHCCNxFRG9566y2Eh4ejtLQUZWVloW4OEYUIe5aIiPz44osvkJWVhX/9619YvXo1AGD37t2QJCnELSOiYGPPEhFRK3V1dViwYAGWLFmCO+64A2+++SYOHDiADRs2hLppRBQC7FkiImrl8ccfx44dO3DkyBGEh4cDADZu3Ignn3wSR48exeDBg0PbQCIKKoYlIqIWPvvsM0ydOhV79+7Fbbfd5vVcTk4O3G43h+OI+hiGJSIiIqIAOGeJiIiIKACGJSIiIqIAGJaIiIiIAmBYIiIiIgqAYYmIiIgoAIYlIiIiogAYloiIiIgCYFgiIiIiCoBhiYiIiCgAhiUiIiKiABiWiIiIiAJgWCIiIiIK4P8B2gRTd1OR02EAAAAASUVORK5CYII=\n"
                },
                "metadata": {}
              }
            ]
          }
        },
        "7f4cd9d458944183901b83e69a118249": {
          "model_module": "@jupyter-widgets/base",
          "model_name": "LayoutModel",
          "model_module_version": "1.2.0",
          "state": {
            "_model_module": "@jupyter-widgets/base",
            "_model_module_version": "1.2.0",
            "_model_name": "LayoutModel",
            "_view_count": null,
            "_view_module": "@jupyter-widgets/base",
            "_view_module_version": "1.2.0",
            "_view_name": "LayoutView",
            "align_content": null,
            "align_items": null,
            "align_self": null,
            "border": null,
            "bottom": null,
            "display": null,
            "flex": null,
            "flex_flow": null,
            "grid_area": null,
            "grid_auto_columns": null,
            "grid_auto_flow": null,
            "grid_auto_rows": null,
            "grid_column": null,
            "grid_gap": null,
            "grid_row": null,
            "grid_template_areas": null,
            "grid_template_columns": null,
            "grid_template_rows": null,
            "height": null,
            "justify_content": null,
            "justify_items": null,
            "left": null,
            "margin": null,
            "max_height": null,
            "max_width": null,
            "min_height": null,
            "min_width": null,
            "object_fit": null,
            "object_position": null,
            "order": null,
            "overflow": null,
            "overflow_x": null,
            "overflow_y": null,
            "padding": null,
            "right": null,
            "top": null,
            "visibility": null,
            "width": null
          }
        },
        "7a2c77dcd2ab4fb8af455d0a1cb02a34": {
          "model_module": "@jupyter-widgets/base",
          "model_name": "LayoutModel",
          "model_module_version": "1.2.0",
          "state": {
            "_model_module": "@jupyter-widgets/base",
            "_model_module_version": "1.2.0",
            "_model_name": "LayoutModel",
            "_view_count": null,
            "_view_module": "@jupyter-widgets/base",
            "_view_module_version": "1.2.0",
            "_view_name": "LayoutView",
            "align_content": null,
            "align_items": null,
            "align_self": null,
            "border": null,
            "bottom": null,
            "display": null,
            "flex": null,
            "flex_flow": null,
            "grid_area": null,
            "grid_auto_columns": null,
            "grid_auto_flow": null,
            "grid_auto_rows": null,
            "grid_column": null,
            "grid_gap": null,
            "grid_row": null,
            "grid_template_areas": null,
            "grid_template_columns": null,
            "grid_template_rows": null,
            "height": null,
            "justify_content": null,
            "justify_items": null,
            "left": null,
            "margin": null,
            "max_height": null,
            "max_width": null,
            "min_height": null,
            "min_width": null,
            "object_fit": null,
            "object_position": null,
            "order": null,
            "overflow": null,
            "overflow_x": null,
            "overflow_y": null,
            "padding": null,
            "right": null,
            "top": null,
            "visibility": null,
            "width": null
          }
        },
        "8365e2569d1e4d3696f18bdf24261b81": {
          "model_module": "@jupyter-widgets/controls",
          "model_name": "SliderStyleModel",
          "model_module_version": "1.5.0",
          "state": {
            "_model_module": "@jupyter-widgets/controls",
            "_model_module_version": "1.5.0",
            "_model_name": "SliderStyleModel",
            "_view_count": null,
            "_view_module": "@jupyter-widgets/base",
            "_view_module_version": "1.2.0",
            "_view_name": "StyleView",
            "description_width": "",
            "handle_color": null
          }
        },
        "f6237fc5e79b4452a7fdb5cf9ce1b513": {
          "model_module": "@jupyter-widgets/base",
          "model_name": "LayoutModel",
          "model_module_version": "1.2.0",
          "state": {
            "_model_module": "@jupyter-widgets/base",
            "_model_module_version": "1.2.0",
            "_model_name": "LayoutModel",
            "_view_count": null,
            "_view_module": "@jupyter-widgets/base",
            "_view_module_version": "1.2.0",
            "_view_name": "LayoutView",
            "align_content": null,
            "align_items": null,
            "align_self": null,
            "border": null,
            "bottom": null,
            "display": null,
            "flex": null,
            "flex_flow": null,
            "grid_area": null,
            "grid_auto_columns": null,
            "grid_auto_flow": null,
            "grid_auto_rows": null,
            "grid_column": null,
            "grid_gap": null,
            "grid_row": null,
            "grid_template_areas": null,
            "grid_template_columns": null,
            "grid_template_rows": null,
            "height": null,
            "justify_content": null,
            "justify_items": null,
            "left": null,
            "margin": null,
            "max_height": null,
            "max_width": null,
            "min_height": null,
            "min_width": null,
            "object_fit": null,
            "object_position": null,
            "order": null,
            "overflow": null,
            "overflow_x": null,
            "overflow_y": null,
            "padding": null,
            "right": null,
            "top": null,
            "visibility": null,
            "width": null
          }
        }
      }
    }
  },
  "nbformat": 4,
  "nbformat_minor": 0
}